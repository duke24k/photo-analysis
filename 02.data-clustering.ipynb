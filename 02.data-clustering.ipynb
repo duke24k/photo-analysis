{
 "cells": [
  {
   "cell_type": "markdown",
   "metadata": {},
   "source": [
    "### 데이터 라벨링을 위한 클러스터링 작업\n",
    "* 시간을 기준으로 군집화하고\n",
    " * mean-shift라는 unsupervised clustering\n",
    "* 공간을 기준으로 군집화한다. \n",
    " * k-means로 클러스터링한다. \n",
    " * 클러스터링 된 공간에 대하여 수작업으로 라벨링한다. \n",
    " \n",
    " "
   ]
  },
  {
   "cell_type": "code",
   "execution_count": 1,
   "metadata": {
    "collapsed": true
   },
   "outputs": [],
   "source": [
    "from os import listdir\n",
    "import os\n",
    "from os.path import isfile, join\n",
    "import seaborn as sns\n",
    "import matplotlib.pyplot as plt\n",
    "from matplotlib import rcParams\n",
    "from datetime import datetime\n",
    "import pandas as pd\n",
    "%matplotlib inline\n",
    "import random\n",
    "import numpy as np\n",
    "\n",
    "sns.set(style=\"whitegrid\", palette=\"pastel\", color_codes=True, font_scale=1.4)\n",
    "rcParams['font.family'] = 'NanumGothic'"
   ]
  },
  {
   "cell_type": "code",
   "execution_count": 5,
   "metadata": {
    "collapsed": false
   },
   "outputs": [],
   "source": [
    "pic_ds = pd.read_pickle('./resource/pic_ds.pkl')"
   ]
  },
  {
   "cell_type": "markdown",
   "metadata": {},
   "source": [
    "## 기간에 따른 클러스터링 \n",
    "* mean-shift"
   ]
  },
  {
   "cell_type": "code",
   "execution_count": 14,
   "metadata": {
    "collapsed": true
   },
   "outputs": [],
   "source": [
    "from IPython.display import Image, HTML, display\n",
    "from glob import glob\n",
    "\n",
    "def drawImages(imagePathList, size='120px'):\n",
    "    imgtag = \"<img style='height: \"+size+\"; margin: 0px; float: left; border: 1px solid black;' src='%s' />\"\n",
    "    imagesList=''.join( [ imgtag % str(s) \n",
    "                         for s in imagePathList ])\n",
    "    \n",
    "    display(HTML(imagesList))"
   ]
  },
  {
   "cell_type": "code",
   "execution_count": 11,
   "metadata": {
    "collapsed": false
   },
   "outputs": [],
   "source": [
    "from sklearn.cluster import MeanShift, estimate_bandwidth\n",
    "\n",
    "date_array = pic_ds.apply( lambda x : (x.year-2012)*365+x.year_day, axis=1).values\n",
    "date_array = date_array.reshape(len(date_array),1)"
   ]
  },
  {
   "cell_type": "code",
   "execution_count": 12,
   "metadata": {
    "collapsed": false
   },
   "outputs": [
    {
     "name": "stdout",
     "output_type": "stream",
     "text": [
      "number of estimated clusters : 277\n"
     ]
    }
   ],
   "source": [
    "ms = MeanShift(bandwidth=.2, bin_seeding=True)\n",
    "ms.fit(date_array)\n",
    "labels = ms.labels_\n",
    "cluster_centers = ms.cluster_centers_\n",
    "\n",
    "labels_unique = np.unique(labels)\n",
    "n_clusters_ = len(labels_unique)\n",
    "\n",
    "print(\"number of estimated clusters : %d\" % n_clusters_)"
   ]
  },
  {
   "cell_type": "code",
   "execution_count": 24,
   "metadata": {
    "collapsed": false,
    "scrolled": false
   },
   "outputs": [
    {
     "name": "stdout",
     "output_type": "stream",
     "text": [
      "cluser = 0, image=24 : 2016-04-21 08:32:06 ~ 2016-04-21 20:08:26\n"
     ]
    },
    {
     "data": {
      "text/html": [
       "<img style='height: 120px; margin: 0px; float: left; border: 1px solid black;' src='./resource/photo/IMG_1552.JPG' /><img style='height: 120px; margin: 0px; float: left; border: 1px solid black;' src='./resource/photo/IMG_1684.JPG' /><img style='height: 120px; margin: 0px; float: left; border: 1px solid black;' src='./resource/photo/IMG_1542.JPG' /><img style='height: 120px; margin: 0px; float: left; border: 1px solid black;' src='./resource/photo/IMG_1654.JPG' /><img style='height: 120px; margin: 0px; float: left; border: 1px solid black;' src='./resource/photo/IMG_1560.JPG' />"
      ],
      "text/plain": [
       "<IPython.core.display.HTML object>"
      ]
     },
     "metadata": {},
     "output_type": "display_data"
    },
    {
     "name": "stdout",
     "output_type": "stream",
     "text": [
      "cluser = 1, image=24 : 2016-04-22 16:36:28 ~ 2016-04-22 19:51:16\n"
     ]
    },
    {
     "data": {
      "text/html": [
       "<img style='height: 120px; margin: 0px; float: left; border: 1px solid black;' src='./resource/photo/IMG_1851.JPG' /><img style='height: 120px; margin: 0px; float: left; border: 1px solid black;' src='./resource/photo/IMG_1818.JPG' /><img style='height: 120px; margin: 0px; float: left; border: 1px solid black;' src='./resource/photo/IMG_1845.JPG' /><img style='height: 120px; margin: 0px; float: left; border: 1px solid black;' src='./resource/photo/IMG_1794.JPG' /><img style='height: 120px; margin: 0px; float: left; border: 1px solid black;' src='./resource/photo/IMG_1814.JPG' />"
      ],
      "text/plain": [
       "<IPython.core.display.HTML object>"
      ]
     },
     "metadata": {},
     "output_type": "display_data"
    },
    {
     "name": "stdout",
     "output_type": "stream",
     "text": [
      "cluser = 2, image=24 : 2016-04-19 07:43:35 ~ 2016-04-19 18:32:39\n"
     ]
    },
    {
     "data": {
      "text/html": [
       "<img style='height: 120px; margin: 0px; float: left; border: 1px solid black;' src='./resource/photo/IMG_1407.JPG' /><img style='height: 120px; margin: 0px; float: left; border: 1px solid black;' src='./resource/photo/IMG_1417.JPG' /><img style='height: 120px; margin: 0px; float: left; border: 1px solid black;' src='./resource/photo/IMG_1457.JPG' /><img style='height: 120px; margin: 0px; float: left; border: 1px solid black;' src='./resource/photo/IMG_1426.JPG' /><img style='height: 120px; margin: 0px; float: left; border: 1px solid black;' src='./resource/photo/IMG_1444.JPG' />"
      ],
      "text/plain": [
       "<IPython.core.display.HTML object>"
      ]
     },
     "metadata": {},
     "output_type": "display_data"
    },
    {
     "name": "stdout",
     "output_type": "stream",
     "text": [
      "cluser = 3, image=24 : 2015-10-24 20:12:20 ~ 2015-10-24 20:22:10\n"
     ]
    },
    {
     "data": {
      "text/html": [
       "<img style='height: 120px; margin: 0px; float: left; border: 1px solid black;' src='./resource/photo/IMG_0085.JPG' /><img style='height: 120px; margin: 0px; float: left; border: 1px solid black;' src='./resource/photo/IMG_0113.JPG' /><img style='height: 120px; margin: 0px; float: left; border: 1px solid black;' src='./resource/photo/IMG_0064.JPG' /><img style='height: 120px; margin: 0px; float: left; border: 1px solid black;' src='./resource/photo/IMG_0051.JPG' /><img style='height: 120px; margin: 0px; float: left; border: 1px solid black;' src='./resource/photo/IMG_0122.JPG' />"
      ],
      "text/plain": [
       "<IPython.core.display.HTML object>"
      ]
     },
     "metadata": {},
     "output_type": "display_data"
    },
    {
     "name": "stdout",
     "output_type": "stream",
     "text": [
      "cluser = 4, image=24 : 2016-04-20 07:42:23 ~ 2016-04-20 16:23:33\n"
     ]
    },
    {
     "data": {
      "text/html": [
       "<img style='height: 120px; margin: 0px; float: left; border: 1px solid black;' src='./resource/photo/IMG_1505.JPG' /><img style='height: 120px; margin: 0px; float: left; border: 1px solid black;' src='./resource/photo/IMG_1486.JPG' /><img style='height: 120px; margin: 0px; float: left; border: 1px solid black;' src='./resource/photo/IMG_1485.JPG' /><img style='height: 120px; margin: 0px; float: left; border: 1px solid black;' src='./resource/photo/IMG_1514.JPG' /><img style='height: 120px; margin: 0px; float: left; border: 1px solid black;' src='./resource/photo/IMG_1477.JPG' />"
      ],
      "text/plain": [
       "<IPython.core.display.HTML object>"
      ]
     },
     "metadata": {},
     "output_type": "display_data"
    },
    {
     "name": "stdout",
     "output_type": "stream",
     "text": [
      "cluser = 5, image=24 : 2016-02-10 14:24:57 ~ 2016-02-10 18:58:57\n"
     ]
    },
    {
     "data": {
      "text/html": [
       "<img style='height: 120px; margin: 0px; float: left; border: 1px solid black;' src='./resource/photo/IMG_1087.JPG' /><img style='height: 120px; margin: 0px; float: left; border: 1px solid black;' src='./resource/photo/IMG_1058.JPG' /><img style='height: 120px; margin: 0px; float: left; border: 1px solid black;' src='./resource/photo/IMG_1056.JPG' /><img style='height: 120px; margin: 0px; float: left; border: 1px solid black;' src='./resource/photo/IMG_1084.JPG' /><img style='height: 120px; margin: 0px; float: left; border: 1px solid black;' src='./resource/photo/IMG_1061.JPG' />"
      ],
      "text/plain": [
       "<IPython.core.display.HTML object>"
      ]
     },
     "metadata": {},
     "output_type": "display_data"
    },
    {
     "name": "stdout",
     "output_type": "stream",
     "text": [
      "cluser = 6, image=24 : 2016-04-29 11:46:22 ~ 2016-04-29 19:18:51\n"
     ]
    },
    {
     "data": {
      "text/html": [
       "<img style='height: 120px; margin: 0px; float: left; border: 1px solid black;' src='./resource/photo/IMG_1946.JPG' /><img style='height: 120px; margin: 0px; float: left; border: 1px solid black;' src='./resource/photo/IMG_1904.JPG' /><img style='height: 120px; margin: 0px; float: left; border: 1px solid black;' src='./resource/photo/IMG_1922.JPG' /><img style='height: 120px; margin: 0px; float: left; border: 1px solid black;' src='./resource/photo/IMG_1920.JPG' /><img style='height: 120px; margin: 0px; float: left; border: 1px solid black;' src='./resource/photo/IMG_1930.JPG' />"
      ],
      "text/plain": [
       "<IPython.core.display.HTML object>"
      ]
     },
     "metadata": {},
     "output_type": "display_data"
    },
    {
     "name": "stdout",
     "output_type": "stream",
     "text": [
      "cluser = 7, image=24 : 2016-03-27 13:17:50 ~ 2016-03-27 13:53:39\n"
     ]
    },
    {
     "data": {
      "text/html": [
       "<img style='height: 120px; margin: 0px; float: left; border: 1px solid black;' src='./resource/photo/IMG_1326.JPG' /><img style='height: 120px; margin: 0px; float: left; border: 1px solid black;' src='./resource/photo/IMG_1313.JPG' /><img style='height: 120px; margin: 0px; float: left; border: 1px solid black;' src='./resource/photo/IMG_1322.JPG' /><img style='height: 120px; margin: 0px; float: left; border: 1px solid black;' src='./resource/photo/IMG_1320.JPG' /><img style='height: 120px; margin: 0px; float: left; border: 1px solid black;' src='./resource/photo/IMG_1312.JPG' />"
      ],
      "text/plain": [
       "<IPython.core.display.HTML object>"
      ]
     },
     "metadata": {},
     "output_type": "display_data"
    },
    {
     "name": "stdout",
     "output_type": "stream",
     "text": [
      "cluser = 8, image=24 : 2014-07-01 21:39:05 ~ 2014-07-01 21:41:12\n"
     ]
    },
    {
     "data": {
      "text/html": [
       "<img style='height: 120px; margin: 0px; float: left; border: 1px solid black;' src='./resource/photo/IMG_0250.JPG' /><img style='height: 120px; margin: 0px; float: left; border: 1px solid black;' src='./resource/photo/IMG_0273.JPG' /><img style='height: 120px; margin: 0px; float: left; border: 1px solid black;' src='./resource/photo/IMG_0228.JPG' /><img style='height: 120px; margin: 0px; float: left; border: 1px solid black;' src='./resource/photo/IMG_0270.JPG' /><img style='height: 120px; margin: 0px; float: left; border: 1px solid black;' src='./resource/photo/IMG_0214.JPG' />"
      ],
      "text/plain": [
       "<IPython.core.display.HTML object>"
      ]
     },
     "metadata": {},
     "output_type": "display_data"
    },
    {
     "name": "stdout",
     "output_type": "stream",
     "text": [
      "cluser = 9, image=24 : 2016-02-05 17:16:55 ~ 2016-02-05 20:40:06\n"
     ]
    },
    {
     "data": {
      "text/html": [
       "<img style='height: 120px; margin: 0px; float: left; border: 1px solid black;' src='./resource/photo/IMG_1025_2.JPG' /><img style='height: 120px; margin: 0px; float: left; border: 1px solid black;' src='./resource/photo/IMG_1031.JPG' /><img style='height: 120px; margin: 0px; float: left; border: 1px solid black;' src='./resource/photo/IMG_1014_2.JPG' /><img style='height: 120px; margin: 0px; float: left; border: 1px solid black;' src='./resource/photo/IMG_1030.JPG' /><img style='height: 120px; margin: 0px; float: left; border: 1px solid black;' src='./resource/photo/IMG_1021_2.JPG' />"
      ],
      "text/plain": [
       "<IPython.core.display.HTML object>"
      ]
     },
     "metadata": {},
     "output_type": "display_data"
    },
    {
     "name": "stdout",
     "output_type": "stream",
     "text": [
      "cluser = 10, image=24 : 2016-04-23 10:41:13 ~ 2016-04-23 10:59:34\n"
     ]
    },
    {
     "data": {
      "text/html": [
       "<img style='height: 120px; margin: 0px; float: left; border: 1px solid black;' src='./resource/photo/IMG_1874.JPG' /><img style='height: 120px; margin: 0px; float: left; border: 1px solid black;' src='./resource/photo/IMG_1882.JPG' /><img style='height: 120px; margin: 0px; float: left; border: 1px solid black;' src='./resource/photo/IMG_1865.JPG' /><img style='height: 120px; margin: 0px; float: left; border: 1px solid black;' src='./resource/photo/IMG_1883.JPG' /><img style='height: 120px; margin: 0px; float: left; border: 1px solid black;' src='./resource/photo/IMG_1871.JPG' />"
      ],
      "text/plain": [
       "<IPython.core.display.HTML object>"
      ]
     },
     "metadata": {},
     "output_type": "display_data"
    },
    {
     "name": "stdout",
     "output_type": "stream",
     "text": [
      "cluser = 11, image=24 : 2016-04-13 18:56:59 ~ 2016-04-13 19:07:15\n"
     ]
    },
    {
     "data": {
      "text/html": [
       "<img style='height: 120px; margin: 0px; float: left; border: 1px solid black;' src='./resource/photo/IMG_1382.JPG' /><img style='height: 120px; margin: 0px; float: left; border: 1px solid black;' src='./resource/photo/IMG_1377.JPG' /><img style='height: 120px; margin: 0px; float: left; border: 1px solid black;' src='./resource/photo/IMG_1374.JPG' /><img style='height: 120px; margin: 0px; float: left; border: 1px solid black;' src='./resource/photo/IMG_1391.JPG' /><img style='height: 120px; margin: 0px; float: left; border: 1px solid black;' src='./resource/photo/IMG_1370.JPG' />"
      ],
      "text/plain": [
       "<IPython.core.display.HTML object>"
      ]
     },
     "metadata": {},
     "output_type": "display_data"
    }
   ],
   "source": [
    "sample_pics = []\n",
    "minor_pics = []\n",
    "clustered_ds = pd.DataFrame([ a for a in zip(labels,pic_ds.index, pic_ds['datetime']) ], columns=['cluster','img_path','date'] )\n",
    "for (key, ds) in clustered_ds[:].groupby('cluster'):\n",
    "    print(\"cluser = %d, image=%d : %s ~ %s\" % (key, len(img_list), ds['date'].min() , ds['date'].max()) )\n",
    "    image_path = [ './resource/photo/'+img for img in  ds['img_path'].values.tolist()]\n",
    "    random.shuffle(image_path)\n",
    "    drawImages(image_path[:5])\n",
    "    \n",
    "    if key > 10:\n",
    "        break"
   ]
  },
  {
   "cell_type": "code",
   "execution_count": 258,
   "metadata": {
    "collapsed": true
   },
   "outputs": [],
   "source": [
    "import seaborn as sns\n",
    "\n",
    "## 다듬어진 Violin Plotting하기 \n",
    "def drawYearKde(ds, x, y, hue, label=None, figsize=(14,6), order=None, scale='width') :\n",
    "    sns.set(style=\"whitegrid\", palette=\"colorblind\", font_scale=1.4, rc={'font.family':'NanumGothic'} )\n",
    "    plt.figure(figsize=figsize)\n",
    "    order_list = order or ds.groupby(y).count().sort(x, ascending=False).index.tolist()\n",
    "    \n",
    "    ## ploting\n",
    "    g = sns.violinplot(data=ds, x=x, y=y, hue=hue, scale=scale, orient='h'\n",
    "                       , cut=2, split=True, inner='box', bw='silverman'\n",
    "                       \n",
    "                      )\n",
    "    plt.tick_params(labeltop='on')\n",
    "\n",
    "    if label != None:\n",
    "        ## x ticks\n",
    "        label_ds = ds.groupby(label).max()\n",
    "        x_index = label_ds[x].values.tolist()\n",
    "        x_label = label_ds.index.tolist()\n",
    "        plt.xticks(x_index, x_label, rotation='vertical')\n",
    "\n",
    "    plt.xlabel('')\n",
    "    plt.ylabel('')\n",
    "    "
   ]
  },
  {
   "cell_type": "code",
   "execution_count": 259,
   "metadata": {
    "collapsed": false
   },
   "outputs": [
    {
     "data": {
      "image/png": "[encoded data removed]",
      "text/plain": [
       "<matplotlib.figure.Figure at 0x110f87d68>"
      ]
     },
     "metadata": {},
     "output_type": "display_data"
    }
   ],
   "source": [
    "drawYearKde(pic_ds, x='year_day', y='year', hue=None, label=None, figsize=(14,10))"
   ]
  },
  {
   "cell_type": "markdown",
   "metadata": {
    "collapsed": false
   },
   "source": [
    "### 데이터에 라벨링 \n",
    "* 지역 기반으로 라벨링 \n",
    "* 시간 기반으로 라벨링"
   ]
  },
  {
   "cell_type": "code",
   "execution_count": 260,
   "metadata": {
    "collapsed": false
   },
   "outputs": [],
   "source": [
    "def drawVlinePlot(x, title, xticks=None):\n",
    "    ax = plt.figure(figsize=(10,1.5))\n",
    "    plt.vlines(x, [0], 1, alpha=0.7, linewidth=1.5, color='k')\n",
    "    #plt.vlines([np.median(x)], [0], 1, alpha=1, linewidth=2, color='r')\n",
    "    if xticks is not None:\n",
    "        plt.xticks(xticks[0], xticks[1])\n",
    "    plt.yticks([])\n",
    "    size = len(x)\n",
    "    #ylabel('{0}'.format(size))\n",
    "    plt.title(title)\n",
    "    plt.show()\n",
    "    "
   ]
  },
  {
   "cell_type": "code",
   "execution_count": 261,
   "metadata": {
    "collapsed": true
   },
   "outputs": [],
   "source": [
    "## 년도별 사진을 찍은 산포도 "
   ]
  },
  {
   "cell_type": "code",
   "execution_count": 262,
   "metadata": {
    "collapsed": false
   },
   "outputs": [
    {
     "data": {
      "image/png": "[encoded data removed]",
      "text/plain": [
       "<matplotlib.figure.Figure at 0x10f252be0>"
      ]
     },
     "metadata": {},
     "output_type": "display_data"
    },
    {
     "data": {
      "image/png": "[encoded data removed]",
      "text/plain": [
       "<matplotlib.figure.Figure at 0x110f89438>"
      ]
     },
     "metadata": {},
     "output_type": "display_data"
    },
    {
     "data": {
      "image/png": "[encoded data removed]",
      "text/plain": [
       "<matplotlib.figure.Figure at 0x110f69eb8>"
      ]
     },
     "metadata": {},
     "output_type": "display_data"
    },
    {
     "data": {
      "image/png": "[encoded data removed]",
      "text/plain": [
       "<matplotlib.figure.Figure at 0x10b6b9080>"
      ]
     },
     "metadata": {},
     "output_type": "display_data"
    },
    {
     "data": {
      "image/png": "[encoded data removed]",
      "text/plain": [
       "<matplotlib.figure.Figure at 0x109c30d30>"
      ]
     },
     "metadata": {},
     "output_type": "display_data"
    }
   ],
   "source": [
    "for year, ds in pic_ds.groupby('year'):\n",
    "    drawVlinePlot(ds.year_day.values, \"%d 년\"%year)"
   ]
  },
  {
   "cell_type": "code",
   "execution_count": null,
   "metadata": {
    "collapsed": true
   },
   "outputs": [],
   "source": [
    "## 이미지 사이즈별 구분하여 샘플링"
   ]
  },
  {
   "cell_type": "code",
   "execution_count": 248,
   "metadata": {
    "collapsed": true
   },
   "outputs": [],
   "source": [
    "from IPython.display import Image, HTML, display\n",
    "from glob import glob\n",
    "\n",
    "def drawImages(imagePathList, size='120px'):\n",
    "    imgtag = \"<img style='height: \"+size+\"; margin: 0px; float: left; border: 1px solid black;' src='%s' />\"\n",
    "    imagesList=''.join( [ imgtag % str(s) \n",
    "                         for s in imagePathList ])\n",
    "    \n",
    "    display(HTML(imagesList))"
   ]
  },
  {
   "cell_type": "code",
   "execution_count": 263,
   "metadata": {
    "collapsed": false
   },
   "outputs": [],
   "source": [
    "sample_pics = []\n",
    "minor_pics = []\n",
    "for (key, ds) in pic_ds.groupby(['resolution','model']):\n",
    "    if ds.shape[0]>5 :\n",
    "        sample_pics.append((key, [ './resource/photo/'+img for img in  ds.index.values.tolist()]))\n",
    "    else :\n",
    "        minor_pics.extend([ './resource/photo/'+img for img in  ds.index.values.tolist()])\n",
    "sample_pics.append((('etc','none'),minor_pics))"
   ]
  },
  {
   "cell_type": "code",
   "execution_count": 282,
   "metadata": {
    "collapsed": false
   },
   "outputs": [
    {
     "data": {
      "text/plain": [
       "<matplotlib.axes._subplots.AxesSubplot at 0x10b4470b8>"
      ]
     },
     "execution_count": 282,
     "metadata": {},
     "output_type": "execute_result"
    },
    {
     "data": {
      "image/png": "[encoded data removed]",
      "text/plain": [
       "<matplotlib.figure.Figure at 0x10b4982b0>"
      ]
     },
     "metadata": {},
     "output_type": "display_data"
    }
   ],
   "source": [
    "tmp_ds = pd.DataFrame([[\"_\".join(key), len(images)] for (key, images) in sample_pics], columns='name count'.split())\n",
    "tmp_ds.sort('count').plot(kind='bar' , x='name', y='count', legend=None)"
   ]
  },
  {
   "cell_type": "code",
   "execution_count": 279,
   "metadata": {
    "collapsed": false,
    "scrolled": false
   },
   "outputs": [
    {
     "name": "stdout",
     "output_type": "stream",
     "text": [
      "1932X1932 iPhone 6s 12\n"
     ]
    },
    {
     "data": {
      "text/html": [
       "<img style='height: 120px; margin: 0px; float: left; border: 1px solid black;' src='./resource/photo/IMG_1871.JPG' /><img style='height: 120px; margin: 0px; float: left; border: 1px solid black;' src='./resource/photo/IMG_1126.JPG' /><img style='height: 120px; margin: 0px; float: left; border: 1px solid black;' src='./resource/photo/IMG_1867.JPG' /><img style='height: 120px; margin: 0px; float: left; border: 1px solid black;' src='./resource/photo/IMG_1869.JPG' /><img style='height: 120px; margin: 0px; float: left; border: 1px solid black;' src='./resource/photo/IMG_1865.JPG' />"
      ],
      "text/plain": [
       "<IPython.core.display.HTML object>"
      ]
     },
     "metadata": {},
     "output_type": "display_data"
    },
    {
     "name": "stdout",
     "output_type": "stream",
     "text": [
      "1932X2576 iPhone 6s 216\n"
     ]
    },
    {
     "data": {
      "text/html": [
       "<img style='height: 120px; margin: 0px; float: left; border: 1px solid black;' src='./resource/photo/IMG_1422.JPG' /><img style='height: 120px; margin: 0px; float: left; border: 1px solid black;' src='./resource/photo/IMG_1319.JPG' /><img style='height: 120px; margin: 0px; float: left; border: 1px solid black;' src='./resource/photo/IMG_1194.JPG' /><img style='height: 120px; margin: 0px; float: left; border: 1px solid black;' src='./resource/photo/IMG_1428.JPG' /><img style='height: 120px; margin: 0px; float: left; border: 1px solid black;' src='./resource/photo/IMG_1777.JPG' />"
      ],
      "text/plain": [
       "<IPython.core.display.HTML object>"
      ]
     },
     "metadata": {},
     "output_type": "display_data"
    },
    {
     "name": "stdout",
     "output_type": "stream",
     "text": [
      "2448X2448 iPhone 4S 7\n"
     ]
    },
    {
     "data": {
      "text/html": [
       "<img style='height: 120px; margin: 0px; float: left; border: 1px solid black;' src='./resource/photo/IMG_0085.JPG' /><img style='height: 120px; margin: 0px; float: left; border: 1px solid black;' src='./resource/photo/IMG_0344.JPG' /><img style='height: 120px; margin: 0px; float: left; border: 1px solid black;' src='./resource/photo/IMG_0062.JPG' /><img style='height: 120px; margin: 0px; float: left; border: 1px solid black;' src='./resource/photo/IMG_0109.JPG' /><img style='height: 120px; margin: 0px; float: left; border: 1px solid black;' src='./resource/photo/IMG_0744.JPG' />"
      ],
      "text/plain": [
       "<IPython.core.display.HTML object>"
      ]
     },
     "metadata": {},
     "output_type": "display_data"
    },
    {
     "name": "stdout",
     "output_type": "stream",
     "text": [
      "2448X3264 iPhone 4S 500\n"
     ]
    },
    {
     "data": {
      "text/html": [
       "<img style='height: 120px; margin: 0px; float: left; border: 1px solid black;' src='./resource/photo/IMG_0131.JPG' /><img style='height: 120px; margin: 0px; float: left; border: 1px solid black;' src='./resource/photo/IMG_0454.JPG' /><img style='height: 120px; margin: 0px; float: left; border: 1px solid black;' src='./resource/photo/IMG_0536.JPG' /><img style='height: 120px; margin: 0px; float: left; border: 1px solid black;' src='./resource/photo/IMG_0638.JPG' /><img style='height: 120px; margin: 0px; float: left; border: 1px solid black;' src='./resource/photo/IMG_0201.JPG' />"
      ],
      "text/plain": [
       "<IPython.core.display.HTML object>"
      ]
     },
     "metadata": {},
     "output_type": "display_data"
    },
    {
     "name": "stdout",
     "output_type": "stream",
     "text": [
      "3024X3024 iPhone 6s 31\n"
     ]
    },
    {
     "data": {
      "text/html": [
       "<img style='height: 120px; margin: 0px; float: left; border: 1px solid black;' src='./resource/photo/IMG_2124.JPG' /><img style='height: 120px; margin: 0px; float: left; border: 1px solid black;' src='./resource/photo/IMG_2133.JPG' /><img style='height: 120px; margin: 0px; float: left; border: 1px solid black;' src='./resource/photo/IMG_2130.JPG' /><img style='height: 120px; margin: 0px; float: left; border: 1px solid black;' src='./resource/photo/IMG_2107.JPG' /><img style='height: 120px; margin: 0px; float: left; border: 1px solid black;' src='./resource/photo/IMG_2114.JPG' />"
      ],
      "text/plain": [
       "<IPython.core.display.HTML object>"
      ]
     },
     "metadata": {},
     "output_type": "display_data"
    },
    {
     "name": "stdout",
     "output_type": "stream",
     "text": [
      "3024X4032 iPhone 6s 320\n"
     ]
    },
    {
     "data": {
      "text/html": [
       "<img style='height: 120px; margin: 0px; float: left; border: 1px solid black;' src='./resource/photo/IMG_1505.JPG' /><img style='height: 120px; margin: 0px; float: left; border: 1px solid black;' src='./resource/photo/IMG_1458.JPG' /><img style='height: 120px; margin: 0px; float: left; border: 1px solid black;' src='./resource/photo/IMG_1459.JPG' /><img style='height: 120px; margin: 0px; float: left; border: 1px solid black;' src='./resource/photo/IMG_1434.JPG' /><img style='height: 120px; margin: 0px; float: left; border: 1px solid black;' src='./resource/photo/IMG_1381.JPG' />"
      ],
      "text/plain": [
       "<IPython.core.display.HTML object>"
      ]
     },
     "metadata": {},
     "output_type": "display_data"
    },
    {
     "name": "stdout",
     "output_type": "stream",
     "text": [
      "480X640 iPhone 4S 109\n"
     ]
    },
    {
     "data": {
      "text/html": [
       "<img style='height: 120px; margin: 0px; float: left; border: 1px solid black;' src='./resource/photo/IMG_1023.JPG' /><img style='height: 120px; margin: 0px; float: left; border: 1px solid black;' src='./resource/photo/IMG_0598.JPG' /><img style='height: 120px; margin: 0px; float: left; border: 1px solid black;' src='./resource/photo/IMG_0772.JPG' /><img style='height: 120px; margin: 0px; float: left; border: 1px solid black;' src='./resource/photo/IMG_0985.JPG' /><img style='height: 120px; margin: 0px; float: left; border: 1px solid black;' src='./resource/photo/IMG_0718.JPG' />"
      ],
      "text/plain": [
       "<IPython.core.display.HTML object>"
      ]
     },
     "metadata": {},
     "output_type": "display_data"
    },
    {
     "name": "stdout",
     "output_type": "stream",
     "text": [
      "etc none 7\n"
     ]
    },
    {
     "data": {
      "text/html": [
       "<img style='height: 120px; margin: 0px; float: left; border: 1px solid black;' src='./resource/photo/IMG_0350.JPG' /><img style='height: 120px; margin: 0px; float: left; border: 1px solid black;' src='./resource/photo/IMG_2069.JPG' /><img style='height: 120px; margin: 0px; float: left; border: 1px solid black;' src='./resource/photo/IMG_1015_2.JPG' /><img style='height: 120px; margin: 0px; float: left; border: 1px solid black;' src='./resource/photo/IMG_1013_2.JPG' /><img style='height: 120px; margin: 0px; float: left; border: 1px solid black;' src='./resource/photo/IMG_1014_2.JPG' />"
      ],
      "text/plain": [
       "<IPython.core.display.HTML object>"
      ]
     },
     "metadata": {},
     "output_type": "display_data"
    }
   ],
   "source": [
    "import random\n",
    "for (key, img_list) in sample_pics:\n",
    "    print(key[0],key[1], len(img_list))\n",
    "    random.shuffle(img_list)\n",
    "    drawImages(img_list[:5])"
   ]
  },
  {
   "cell_type": "code",
   "execution_count": null,
   "metadata": {
    "collapsed": true
   },
   "outputs": [],
   "source": []
  },
  {
   "cell_type": "code",
   "execution_count": 202,
   "metadata": {
    "collapsed": false
   },
   "outputs": [
    {
     "data": {
      "text/html": [
       "<div style=\"max-height:1000px;max-width:1500px;overflow:auto;\">\n",
       "<table border=\"1\" class=\"dataframe\">\n",
       "  <thead>\n",
       "    <tr style=\"text-align: right;\">\n",
       "      <th></th>\n",
       "      <th></th>\n",
       "      <th>datetime</th>\n",
       "      <th>latitude</th>\n",
       "      <th>longitude</th>\n",
       "    </tr>\n",
       "    <tr>\n",
       "      <th>resolution</th>\n",
       "      <th>model</th>\n",
       "      <th></th>\n",
       "      <th></th>\n",
       "      <th></th>\n",
       "    </tr>\n",
       "  </thead>\n",
       "  <tbody>\n",
       "    <tr>\n",
       "      <th>2448X3264</th>\n",
       "      <th>iPhone 4S</th>\n",
       "      <td> 522</td>\n",
       "      <td> 522</td>\n",
       "      <td> 522</td>\n",
       "    </tr>\n",
       "    <tr>\n",
       "      <th>3024X4032</th>\n",
       "      <th>iPhone 6s</th>\n",
       "      <td> 325</td>\n",
       "      <td> 325</td>\n",
       "      <td> 325</td>\n",
       "    </tr>\n",
       "    <tr>\n",
       "      <th>1932X2576</th>\n",
       "      <th>iPhone 6s</th>\n",
       "      <td> 217</td>\n",
       "      <td> 217</td>\n",
       "      <td> 217</td>\n",
       "    </tr>\n",
       "    <tr>\n",
       "      <th>480X640</th>\n",
       "      <th>iPhone 4S</th>\n",
       "      <td> 114</td>\n",
       "      <td> 114</td>\n",
       "      <td> 114</td>\n",
       "    </tr>\n",
       "    <tr>\n",
       "      <th>1836X1377</th>\n",
       "      <th>unknown</th>\n",
       "      <td>  42</td>\n",
       "      <td>  42</td>\n",
       "      <td>  42</td>\n",
       "    </tr>\n",
       "    <tr>\n",
       "      <th>1836X2448</th>\n",
       "      <th>unknown</th>\n",
       "      <td>  35</td>\n",
       "      <td>  35</td>\n",
       "      <td>  35</td>\n",
       "    </tr>\n",
       "    <tr>\n",
       "      <th>3024X3024</th>\n",
       "      <th>iPhone 6s</th>\n",
       "      <td>  31</td>\n",
       "      <td>  31</td>\n",
       "      <td>  31</td>\n",
       "    </tr>\n",
       "    <tr>\n",
       "      <th>1000X1000</th>\n",
       "      <th>unknown</th>\n",
       "      <td>  30</td>\n",
       "      <td>  30</td>\n",
       "      <td>  30</td>\n",
       "    </tr>\n",
       "    <tr>\n",
       "      <th>1X1</th>\n",
       "      <th>unknown</th>\n",
       "      <td>  29</td>\n",
       "      <td>  29</td>\n",
       "      <td>  29</td>\n",
       "    </tr>\n",
       "    <tr>\n",
       "      <th>1080X1440</th>\n",
       "      <th>unknown</th>\n",
       "      <td>  20</td>\n",
       "      <td>  20</td>\n",
       "      <td>  20</td>\n",
       "    </tr>\n",
       "    <tr>\n",
       "      <th>1440X1080</th>\n",
       "      <th>unknown</th>\n",
       "      <td>  18</td>\n",
       "      <td>  18</td>\n",
       "      <td>  18</td>\n",
       "    </tr>\n",
       "    <tr>\n",
       "      <th>1377X1032</th>\n",
       "      <th>unknown</th>\n",
       "      <td>  17</td>\n",
       "      <td>  17</td>\n",
       "      <td>  17</td>\n",
       "    </tr>\n",
       "    <tr>\n",
       "      <th>960X720</th>\n",
       "      <th>unknown</th>\n",
       "      <td>  13</td>\n",
       "      <td>  13</td>\n",
       "      <td>  13</td>\n",
       "    </tr>\n",
       "    <tr>\n",
       "      <th>1932X1932</th>\n",
       "      <th>iPhone 6s</th>\n",
       "      <td>  12</td>\n",
       "      <td>  12</td>\n",
       "      <td>  12</td>\n",
       "    </tr>\n",
       "    <tr>\n",
       "      <th>720X960</th>\n",
       "      <th>unknown</th>\n",
       "      <td>  11</td>\n",
       "      <td>  11</td>\n",
       "      <td>  11</td>\n",
       "    </tr>\n",
       "    <tr>\n",
       "      <th>480X640</th>\n",
       "      <th>unknown</th>\n",
       "      <td>  10</td>\n",
       "      <td>  10</td>\n",
       "      <td>  10</td>\n",
       "    </tr>\n",
       "    <tr>\n",
       "      <th>1280X960</th>\n",
       "      <th>unknown</th>\n",
       "      <td>   9</td>\n",
       "      <td>   9</td>\n",
       "      <td>   9</td>\n",
       "    </tr>\n",
       "    <tr>\n",
       "      <th>960X1280</th>\n",
       "      <th>unknown</th>\n",
       "      <td>   9</td>\n",
       "      <td>   9</td>\n",
       "      <td>   9</td>\n",
       "    </tr>\n",
       "    <tr>\n",
       "      <th>1377X1836</th>\n",
       "      <th>unknown</th>\n",
       "      <td>   8</td>\n",
       "      <td>   8</td>\n",
       "      <td>   8</td>\n",
       "    </tr>\n",
       "    <tr>\n",
       "      <th>0X0</th>\n",
       "      <th>Canon EOS 600D</th>\n",
       "      <td>   7</td>\n",
       "      <td>   7</td>\n",
       "      <td>   7</td>\n",
       "    </tr>\n",
       "    <tr>\n",
       "      <th>2448X2448</th>\n",
       "      <th>iPhone 4S</th>\n",
       "      <td>   7</td>\n",
       "      <td>   7</td>\n",
       "      <td>   7</td>\n",
       "    </tr>\n",
       "    <tr>\n",
       "      <th>750X750</th>\n",
       "      <th>unknown</th>\n",
       "      <td>   5</td>\n",
       "      <td>   5</td>\n",
       "      <td>   5</td>\n",
       "    </tr>\n",
       "    <tr>\n",
       "      <th>540X960</th>\n",
       "      <th>unknown</th>\n",
       "      <td>   5</td>\n",
       "      <td>   5</td>\n",
       "      <td>   5</td>\n",
       "    </tr>\n",
       "    <tr>\n",
       "      <th>991X1321</th>\n",
       "      <th>unknown</th>\n",
       "      <td>   4</td>\n",
       "      <td>   4</td>\n",
       "      <td>   4</td>\n",
       "    </tr>\n",
       "    <tr>\n",
       "      <th>1280X720</th>\n",
       "      <th>unknown</th>\n",
       "      <td>   4</td>\n",
       "      <td>   4</td>\n",
       "      <td>   4</td>\n",
       "    </tr>\n",
       "    <tr>\n",
       "      <th>1680X1260</th>\n",
       "      <th>unknown</th>\n",
       "      <td>   4</td>\n",
       "      <td>   4</td>\n",
       "      <td>   4</td>\n",
       "    </tr>\n",
       "    <tr>\n",
       "      <th>640X480</th>\n",
       "      <th>unknown</th>\n",
       "      <td>   3</td>\n",
       "      <td>   3</td>\n",
       "      <td>   3</td>\n",
       "    </tr>\n",
       "    <tr>\n",
       "      <th>720X1280</th>\n",
       "      <th>iPhone 6s</th>\n",
       "      <td>   3</td>\n",
       "      <td>   3</td>\n",
       "      <td>   3</td>\n",
       "    </tr>\n",
       "    <tr>\n",
       "      <th>0X0</th>\n",
       "      <th>Canon EOS 5D Mark II</th>\n",
       "      <td>   3</td>\n",
       "      <td>   3</td>\n",
       "      <td>   3</td>\n",
       "    </tr>\n",
       "    <tr>\n",
       "      <th>1280X959</th>\n",
       "      <th>unknown</th>\n",
       "      <td>   2</td>\n",
       "      <td>   2</td>\n",
       "      <td>   2</td>\n",
       "    </tr>\n",
       "    <tr>\n",
       "      <th>434X544</th>\n",
       "      <th>unknown</th>\n",
       "      <td>   2</td>\n",
       "      <td>   2</td>\n",
       "      <td>   2</td>\n",
       "    </tr>\n",
       "    <tr>\n",
       "      <th>1280X931</th>\n",
       "      <th>unknown</th>\n",
       "      <td>   2</td>\n",
       "      <td>   2</td>\n",
       "      <td>   2</td>\n",
       "    </tr>\n",
       "    <tr>\n",
       "      <th>1260X1680</th>\n",
       "      <th>unknown</th>\n",
       "      <td>   2</td>\n",
       "      <td>   2</td>\n",
       "      <td>   2</td>\n",
       "    </tr>\n",
       "    <tr>\n",
       "      <th>852X1136</th>\n",
       "      <th>unknown</th>\n",
       "      <td>   2</td>\n",
       "      <td>   2</td>\n",
       "      <td>   2</td>\n",
       "    </tr>\n",
       "    <tr>\n",
       "      <th>800X539</th>\n",
       "      <th>unknown</th>\n",
       "      <td>   2</td>\n",
       "      <td>   2</td>\n",
       "      <td>   2</td>\n",
       "    </tr>\n",
       "    <tr>\n",
       "      <th>1321X991</th>\n",
       "      <th>unknown</th>\n",
       "      <td>   2</td>\n",
       "      <td>   2</td>\n",
       "      <td>   2</td>\n",
       "    </tr>\n",
       "    <tr>\n",
       "      <th>1200X1600</th>\n",
       "      <th>unknown</th>\n",
       "      <td>   2</td>\n",
       "      <td>   2</td>\n",
       "      <td>   2</td>\n",
       "    </tr>\n",
       "    <tr>\n",
       "      <th>722X718</th>\n",
       "      <th>unknown</th>\n",
       "      <td>   1</td>\n",
       "      <td>   1</td>\n",
       "      <td>   1</td>\n",
       "    </tr>\n",
       "    <tr>\n",
       "      <th>553X408</th>\n",
       "      <th>unknown</th>\n",
       "      <td>   1</td>\n",
       "      <td>   1</td>\n",
       "      <td>   1</td>\n",
       "    </tr>\n",
       "    <tr>\n",
       "      <th>640X426</th>\n",
       "      <th>unknown</th>\n",
       "      <td>   1</td>\n",
       "      <td>   1</td>\n",
       "      <td>   1</td>\n",
       "    </tr>\n",
       "    <tr>\n",
       "      <th>661X710</th>\n",
       "      <th>unknown</th>\n",
       "      <td>   1</td>\n",
       "      <td>   1</td>\n",
       "      <td>   1</td>\n",
       "    </tr>\n",
       "    <tr>\n",
       "      <th>720X1280</th>\n",
       "      <th>unknown</th>\n",
       "      <td>   1</td>\n",
       "      <td>   1</td>\n",
       "      <td>   1</td>\n",
       "    </tr>\n",
       "    <tr>\n",
       "      <th>720X540</th>\n",
       "      <th>unknown</th>\n",
       "      <td>   1</td>\n",
       "      <td>   1</td>\n",
       "      <td>   1</td>\n",
       "    </tr>\n",
       "    <tr>\n",
       "      <th>1203X1933</th>\n",
       "      <th>unknown</th>\n",
       "      <td>   1</td>\n",
       "      <td>   1</td>\n",
       "      <td>   1</td>\n",
       "    </tr>\n",
       "    <tr>\n",
       "      <th>780X931</th>\n",
       "      <th>unknown</th>\n",
       "      <td>   1</td>\n",
       "      <td>   1</td>\n",
       "      <td>   1</td>\n",
       "    </tr>\n",
       "    <tr>\n",
       "      <th>740X416</th>\n",
       "      <th>unknown</th>\n",
       "      <td>   1</td>\n",
       "      <td>   1</td>\n",
       "      <td>   1</td>\n",
       "    </tr>\n",
       "    <tr>\n",
       "      <th>533X358</th>\n",
       "      <th>unknown</th>\n",
       "      <td>   1</td>\n",
       "      <td>   1</td>\n",
       "      <td>   1</td>\n",
       "    </tr>\n",
       "    <tr>\n",
       "      <th>810X1440</th>\n",
       "      <th>unknown</th>\n",
       "      <td>   1</td>\n",
       "      <td>   1</td>\n",
       "      <td>   1</td>\n",
       "    </tr>\n",
       "    <tr>\n",
       "      <th>920X640</th>\n",
       "      <th>unknown</th>\n",
       "      <td>   1</td>\n",
       "      <td>   1</td>\n",
       "      <td>   1</td>\n",
       "    </tr>\n",
       "    <tr>\n",
       "      <th>960X1280</th>\n",
       "      <th>iPhone 5</th>\n",
       "      <td>   1</td>\n",
       "      <td>   1</td>\n",
       "      <td>   1</td>\n",
       "    </tr>\n",
       "    <tr>\n",
       "      <th>1135X640</th>\n",
       "      <th>unknown</th>\n",
       "      <td>   1</td>\n",
       "      <td>   1</td>\n",
       "      <td>   1</td>\n",
       "    </tr>\n",
       "    <tr>\n",
       "      <th>960X539</th>\n",
       "      <th>unknown</th>\n",
       "      <td>   1</td>\n",
       "      <td>   1</td>\n",
       "      <td>   1</td>\n",
       "    </tr>\n",
       "    <tr>\n",
       "      <th>960X540</th>\n",
       "      <th>unknown</th>\n",
       "      <td>   1</td>\n",
       "      <td>   1</td>\n",
       "      <td>   1</td>\n",
       "    </tr>\n",
       "    <tr>\n",
       "      <th>1024X1024</th>\n",
       "      <th>unknown</th>\n",
       "      <td>   1</td>\n",
       "      <td>   1</td>\n",
       "      <td>   1</td>\n",
       "    </tr>\n",
       "    <tr>\n",
       "      <th>986X740</th>\n",
       "      <th>unknown</th>\n",
       "      <td>   1</td>\n",
       "      <td>   1</td>\n",
       "      <td>   1</td>\n",
       "    </tr>\n",
       "    <tr>\n",
       "      <th>1280X954</th>\n",
       "      <th>unknown</th>\n",
       "      <td>   1</td>\n",
       "      <td>   1</td>\n",
       "      <td>   1</td>\n",
       "    </tr>\n",
       "    <tr>\n",
       "      <th>1706X1280</th>\n",
       "      <th>unknown</th>\n",
       "      <td>   1</td>\n",
       "      <td>   1</td>\n",
       "      <td>   1</td>\n",
       "    </tr>\n",
       "    <tr>\n",
       "      <th>1280X957</th>\n",
       "      <th>unknown</th>\n",
       "      <td>   1</td>\n",
       "      <td>   1</td>\n",
       "      <td>   1</td>\n",
       "    </tr>\n",
       "    <tr>\n",
       "      <th>282X320</th>\n",
       "      <th>unknown</th>\n",
       "      <td>   1</td>\n",
       "      <td>   1</td>\n",
       "      <td>   1</td>\n",
       "    </tr>\n",
       "    <tr>\n",
       "      <th>1680X1680</th>\n",
       "      <th>unknown</th>\n",
       "      <td>   1</td>\n",
       "      <td>   1</td>\n",
       "      <td>   1</td>\n",
       "    </tr>\n",
       "    <tr>\n",
       "      <th>1606X2321</th>\n",
       "      <th>unknown</th>\n",
       "      <td>   1</td>\n",
       "      <td>   1</td>\n",
       "      <td>   1</td>\n",
       "    </tr>\n",
       "    <tr>\n",
       "      <th>1920X3412</th>\n",
       "      <th>iPhone 6s</th>\n",
       "      <td>   1</td>\n",
       "      <td>   1</td>\n",
       "      <td>   1</td>\n",
       "    </tr>\n",
       "    <tr>\n",
       "      <th>1547X2485</th>\n",
       "      <th>unknown</th>\n",
       "      <td>   1</td>\n",
       "      <td>   1</td>\n",
       "      <td>   1</td>\n",
       "    </tr>\n",
       "    <tr>\n",
       "      <th>1510X2263</th>\n",
       "      <th>unknown</th>\n",
       "      <td>   1</td>\n",
       "      <td>   1</td>\n",
       "      <td>   1</td>\n",
       "    </tr>\n",
       "    <tr>\n",
       "      <th>1488X2128</th>\n",
       "      <th>unknown</th>\n",
       "      <td>   1</td>\n",
       "      <td>   1</td>\n",
       "      <td>   1</td>\n",
       "    </tr>\n",
       "    <tr>\n",
       "      <th>1X1281</th>\n",
       "      <th>unknown</th>\n",
       "      <td>   1</td>\n",
       "      <td>   1</td>\n",
       "      <td>   1</td>\n",
       "    </tr>\n",
       "    <tr>\n",
       "      <th>2150X725</th>\n",
       "      <th>unknown</th>\n",
       "      <td>   1</td>\n",
       "      <td>   1</td>\n",
       "      <td>   1</td>\n",
       "    </tr>\n",
       "    <tr>\n",
       "      <th>1415X2148</th>\n",
       "      <th>unknown</th>\n",
       "      <td>   1</td>\n",
       "      <td>   1</td>\n",
       "      <td>   1</td>\n",
       "    </tr>\n",
       "    <tr>\n",
       "      <th>1414X1000</th>\n",
       "      <th>unknown</th>\n",
       "      <td>   1</td>\n",
       "      <td>   1</td>\n",
       "      <td>   1</td>\n",
       "    </tr>\n",
       "    <tr>\n",
       "      <th>2912X2184</th>\n",
       "      <th>unknown</th>\n",
       "      <td>   1</td>\n",
       "      <td>   1</td>\n",
       "      <td>   1</td>\n",
       "    </tr>\n",
       "    <tr>\n",
       "      <th>178X750</th>\n",
       "      <th>unknown</th>\n",
       "      <td>   1</td>\n",
       "      <td>   1</td>\n",
       "      <td>   1</td>\n",
       "    </tr>\n",
       "    <tr>\n",
       "      <th>1316X740</th>\n",
       "      <th>unknown</th>\n",
       "      <td>   1</td>\n",
       "      <td>   1</td>\n",
       "      <td>   1</td>\n",
       "    </tr>\n",
       "    <tr>\n",
       "      <th>1315X740</th>\n",
       "      <th>unknown</th>\n",
       "      <td>   1</td>\n",
       "      <td>   1</td>\n",
       "      <td>   1</td>\n",
       "    </tr>\n",
       "    <tr>\n",
       "      <th>323X320</th>\n",
       "      <th>unknown</th>\n",
       "      <td>   1</td>\n",
       "      <td>   1</td>\n",
       "      <td>   1</td>\n",
       "    </tr>\n",
       "    <tr>\n",
       "      <th>3628X16362</th>\n",
       "      <th>iPhone 6s</th>\n",
       "      <td>   1</td>\n",
       "      <td>   1</td>\n",
       "      <td>   1</td>\n",
       "    </tr>\n",
       "    <tr>\n",
       "      <th>3816X6358</th>\n",
       "      <th>iPhone 6s</th>\n",
       "      <td>   1</td>\n",
       "      <td>   1</td>\n",
       "      <td>   1</td>\n",
       "    </tr>\n",
       "    <tr>\n",
       "      <th>4063X3000</th>\n",
       "      <th>unknown</th>\n",
       "      <td>   1</td>\n",
       "      <td>   1</td>\n",
       "      <td>   1</td>\n",
       "    </tr>\n",
       "    <tr>\n",
       "      <th>4122X2957</th>\n",
       "      <th>unknown</th>\n",
       "      <td>   1</td>\n",
       "      <td>   1</td>\n",
       "      <td>   1</td>\n",
       "    </tr>\n",
       "    <tr>\n",
       "      <th>413X505</th>\n",
       "      <th>unknown</th>\n",
       "      <td>   1</td>\n",
       "      <td>   1</td>\n",
       "      <td>   1</td>\n",
       "    </tr>\n",
       "    <tr>\n",
       "      <th>4313X2826</th>\n",
       "      <th>unknown</th>\n",
       "      <td>   1</td>\n",
       "      <td>   1</td>\n",
       "      <td>   1</td>\n",
       "    </tr>\n",
       "    <tr>\n",
       "      <th>480X480</th>\n",
       "      <th>unknown</th>\n",
       "      <td>   1</td>\n",
       "      <td>   1</td>\n",
       "      <td>   1</td>\n",
       "    </tr>\n",
       "    <tr>\n",
       "      <th>2590X1952</th>\n",
       "      <th>iPhone 4S</th>\n",
       "      <td>   1</td>\n",
       "      <td>   1</td>\n",
       "      <td>   1</td>\n",
       "    </tr>\n",
       "  </tbody>\n",
       "</table>\n",
       "</div>"
      ],
      "text/plain": [
       "                                 datetime  latitude  longitude\n",
       "resolution model                                              \n",
       "2448X3264  iPhone 4S                  522       522        522\n",
       "3024X4032  iPhone 6s                  325       325        325\n",
       "1932X2576  iPhone 6s                  217       217        217\n",
       "480X640    iPhone 4S                  114       114        114\n",
       "1836X1377  unknown                     42        42         42\n",
       "1836X2448  unknown                     35        35         35\n",
       "3024X3024  iPhone 6s                   31        31         31\n",
       "1000X1000  unknown                     30        30         30\n",
       "1X1        unknown                     29        29         29\n",
       "1080X1440  unknown                     20        20         20\n",
       "1440X1080  unknown                     18        18         18\n",
       "1377X1032  unknown                     17        17         17\n",
       "960X720    unknown                     13        13         13\n",
       "1932X1932  iPhone 6s                   12        12         12\n",
       "720X960    unknown                     11        11         11\n",
       "480X640    unknown                     10        10         10\n",
       "1280X960   unknown                      9         9          9\n",
       "960X1280   unknown                      9         9          9\n",
       "1377X1836  unknown                      8         8          8\n",
       "0X0        Canon EOS 600D               7         7          7\n",
       "2448X2448  iPhone 4S                    7         7          7\n",
       "750X750    unknown                      5         5          5\n",
       "540X960    unknown                      5         5          5\n",
       "991X1321   unknown                      4         4          4\n",
       "1280X720   unknown                      4         4          4\n",
       "1680X1260  unknown                      4         4          4\n",
       "640X480    unknown                      3         3          3\n",
       "720X1280   iPhone 6s                    3         3          3\n",
       "0X0        Canon EOS 5D Mark II         3         3          3\n",
       "1280X959   unknown                      2         2          2\n",
       "434X544    unknown                      2         2          2\n",
       "1280X931   unknown                      2         2          2\n",
       "1260X1680  unknown                      2         2          2\n",
       "852X1136   unknown                      2         2          2\n",
       "800X539    unknown                      2         2          2\n",
       "1321X991   unknown                      2         2          2\n",
       "1200X1600  unknown                      2         2          2\n",
       "722X718    unknown                      1         1          1\n",
       "553X408    unknown                      1         1          1\n",
       "640X426    unknown                      1         1          1\n",
       "661X710    unknown                      1         1          1\n",
       "720X1280   unknown                      1         1          1\n",
       "720X540    unknown                      1         1          1\n",
       "1203X1933  unknown                      1         1          1\n",
       "780X931    unknown                      1         1          1\n",
       "740X416    unknown                      1         1          1\n",
       "533X358    unknown                      1         1          1\n",
       "810X1440   unknown                      1         1          1\n",
       "920X640    unknown                      1         1          1\n",
       "960X1280   iPhone 5                     1         1          1\n",
       "1135X640   unknown                      1         1          1\n",
       "960X539    unknown                      1         1          1\n",
       "960X540    unknown                      1         1          1\n",
       "1024X1024  unknown                      1         1          1\n",
       "986X740    unknown                      1         1          1\n",
       "1280X954   unknown                      1         1          1\n",
       "1706X1280  unknown                      1         1          1\n",
       "1280X957   unknown                      1         1          1\n",
       "282X320    unknown                      1         1          1\n",
       "1680X1680  unknown                      1         1          1\n",
       "1606X2321  unknown                      1         1          1\n",
       "1920X3412  iPhone 6s                    1         1          1\n",
       "1547X2485  unknown                      1         1          1\n",
       "1510X2263  unknown                      1         1          1\n",
       "1488X2128  unknown                      1         1          1\n",
       "1X1281     unknown                      1         1          1\n",
       "2150X725   unknown                      1         1          1\n",
       "1415X2148  unknown                      1         1          1\n",
       "1414X1000  unknown                      1         1          1\n",
       "2912X2184  unknown                      1         1          1\n",
       "178X750    unknown                      1         1          1\n",
       "1316X740   unknown                      1         1          1\n",
       "1315X740   unknown                      1         1          1\n",
       "323X320    unknown                      1         1          1\n",
       "3628X16362 iPhone 6s                    1         1          1\n",
       "3816X6358  iPhone 6s                    1         1          1\n",
       "4063X3000  unknown                      1         1          1\n",
       "4122X2957  unknown                      1         1          1\n",
       "413X505    unknown                      1         1          1\n",
       "4313X2826  unknown                      1         1          1\n",
       "480X480    unknown                      1         1          1\n",
       "2590X1952  iPhone 4S                    1         1          1"
      ]
     },
     "execution_count": 202,
     "metadata": {},
     "output_type": "execute_result"
    }
   ],
   "source": [
    "pd.options.display.max_rows=100\n",
    "pic_ds.groupby(['resolution','model']).count().sort('datetime', ascending=False).head(100)\n",
    "\n",
    "\n"
   ]
  },
  {
   "cell_type": "code",
   "execution_count": null,
   "metadata": {
    "collapsed": true
   },
   "outputs": [],
   "source": []
  }
 ],
 "metadata": {
  "kernelspec": {
   "display_name": "Python 3",
   "language": "python",
   "name": "python3"
  },
  "language_info": {
   "codemirror_mode": {
    "name": "ipython",
    "version": 3
   },
   "file_extension": ".py",
   "mimetype": "text/x-python",
   "name": "python",
   "nbconvert_exporter": "python",
   "pygments_lexer": "ipython3",
   "version": "3.4.3"
  }
 },
 "nbformat": 4,
 "nbformat_minor": 0
}
