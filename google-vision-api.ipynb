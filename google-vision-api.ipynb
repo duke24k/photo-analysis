{
 "cells": [
  {
   "cell_type": "markdown",
   "metadata": {},
   "source": [
    "구그님의 에러 메시지 넘좋으다 \n",
    "\n",
    "** 환경 변수에 인증키를 등록해라..\n",
    " goodvcui-MacBook-Air:label goodvc$ python3 label.py ./resources/cat.jpg \n",
    "Traceback (most recent call last):\n",
    "  File \"label.py\", line 76, in <module>\n",
    "    main(args.image_file)\n",
    "  File \"label.py\", line 45, in main\n",
    "    credentials = GoogleCredentials.get_application_default()\n",
    "  File \"/Library/Frameworks/Python.framework/Versions/3.4/lib/python3.4/site-packages/oauth2client/client.py\", line 1398, in get_application_default\n",
    "    return GoogleCredentials._get_implicit_credentials()\n",
    "  File \"/Library/Frameworks/Python.framework/Versions/3.4/lib/python3.4/site-packages/oauth2client/client.py\", line 1388, in _get_implicit_credentials\n",
    "    raise ApplicationDefaultCredentialsError(ADC_HELP_MSG)\n",
    "oauth2client.client.ApplicationDefaultCredentialsError: The Application Default Credentials are not available.\n",
    "    They are available if running in Google Compute Engine. \n",
    "    Otherwise, the environment variable GOOGLE_APPLICATION_CREDENTIALS must be defined pointing to a file defining the credentials. See https://developers.google.com/accounts/docs/application-default-credentials for more information.\n",
    "\n",
    "        \n",
    "        \n",
    "\n",
    "** 인증키를 활성화 하세요.. \n",
    "goodvcui-MacBook-Air:label goodvc$ python3 label.py ./resources/cat.jpg \n",
    " end authen\n",
    "Traceback (most recent call last):\n",
    "  File \"label.py\", line 76, in <module>\n",
    "    main(args.image_file)\n",
    "  File \"label.py\", line 66, in main\n",
    "    response = service_request.execute()\n",
    "  File \"/Library/Frameworks/Python.framework/Versions/3.4/lib/python3.4/site-packages/oauth2client/util.py\", line 135, in positional_wrapper\n",
    "    return wrapped(*args, **kwargs)\n",
    "  File \"/Library/Frameworks/Python.framework/Versions/3.4/lib/python3.4/site-packages/googleapiclient/http.py\", line 832, in execute\n",
    "    raise HttpError(resp, content, uri=self.uri)\n",
    "googleapiclient.errors.HttpError: <HttpError 403 when requesting https://vision.googleapis.com/v1/images:annotate?alt=json returned \"Google Cloud Vision API has not been used in project face-detection-1470011864085 before or it is disabled. Enable it by visiting https://console.developers.google.com/apis/api/vision.googleapis.com/overview?project=face-detection-1470011864085 then retry. If you enabled this API recently, wait a few minutes for the action to propagate to our systems and retry.\">\n",
    "goodvcui-MacBook-Air:label goodvc$ python3 label.py ./resources/cat.jpg \n",
    " end authen\n",
    "Found label: cat for ./resources/cat.jpg\n",
    "g\n",
    "\n"
   ]
  },
  {
   "cell_type": "code",
   "execution_count": 27,
   "metadata": {
    "collapsed": true
   },
   "outputs": [],
   "source": [
    "## Application Default Credentials (ADC)를 사용하기 위한 환경 변수 등록 \n",
    "## 환경 변수에 인증 파일 경로를 넣으면 GOOGLE_APPLICATION_CREDENTIALS path로 부터 인증파일을읽어 들어 사용한다. \n",
    "import sys,os\n",
    "os.environ['GOOGLE_APPLICATION_CREDENTIALS'] = '/Users/goodvc/Data/photo-analysis/resource/auth/face-detection-b047ede0b8f4.json'"
   ]
  },
  {
   "cell_type": "code",
   "execution_count": 1,
   "metadata": {
    "collapsed": true
   },
   "outputs": [],
   "source": [
    "import argparse\n",
    "import base64\n",
    "\n",
    "from googleapiclient import discovery\n",
    "from oauth2client.client import GoogleCredentials"
   ]
  },
  {
   "cell_type": "code",
   "execution_count": 32,
   "metadata": {
    "collapsed": true
   },
   "outputs": [],
   "source": [
    "# The url template to retrieve the discovery document for trusted testers.\n",
    "DISCOVERY_URL = 'https://{api}.googleapis.com/$discovery/rest?version={apiVersion}'  # noqa\n",
    "# [END import_libraries]\n",
    "\n",
    "def toLabel(photo_file):\n",
    "    \"\"\"Run a label request on a single image\"\"\"\n",
    "\n",
    "    # [START authenticate]\n",
    "    credentials = GoogleCredentials.get_application_default()\n",
    "    service = discovery.build('vision', 'v1', credentials=credentials,\n",
    "                              discoveryServiceUrl=DISCOVERY_URL)\n",
    "    # [END authenticate]\n",
    "    print(\" end authen\")\n",
    "    # [START construct_request]\n",
    "    with open(photo_file, 'rb') as image:\n",
    "        image_content = base64.b64encode(image.read())\n",
    "        service_request = service.images().annotate(body={\n",
    "            'requests': [{\n",
    "                'image': {\n",
    "                    'content': image_content.decode('UTF-8')\n",
    "                },\n",
    "                'features': [{\n",
    "                    'type': 'FACE_DETECTION',\n",
    "                    'maxResults': 10\n",
    "                }]\n",
    "            }]\n",
    "        })\n",
    "        # [END construct_request]\n",
    "        # [START parse_response]\n",
    "        response = service_request.execute()\n",
    "        print('Found label: %s' % (  photo_file))\n",
    "        return response\n",
    "        # [END parse_response]\n"
   ]
  },
  {
   "cell_type": "code",
   "execution_count": 44,
   "metadata": {
    "collapsed": false
   },
   "outputs": [
    {
     "name": "stdout",
     "output_type": "stream",
     "text": [
      " end authen\n",
      "Found label: ./resource/photo/IMG_0007.JPG\n"
     ]
    },
    {
     "data": {
      "text/plain": [
       "{'responses': [{'faceAnnotations': [{'angerLikelihood': 'VERY_UNLIKELY',\n",
       "     'blurredLikelihood': 'VERY_UNLIKELY',\n",
       "     'boundingPoly': {'vertices': [{'x': 301, 'y': 113},\n",
       "       {'x': 466, 'y': 113},\n",
       "       {'x': 466, 'y': 305},\n",
       "       {'x': 301, 'y': 305}]},\n",
       "     'detectionConfidence': 0.98287374,\n",
       "     'fdBoundingPoly': {'vertices': [{'x': 320, 'y': 159},\n",
       "       {'x': 450, 'y': 159},\n",
       "       {'x': 450, 'y': 289},\n",
       "       {'x': 320, 'y': 289}]},\n",
       "     'headwearLikelihood': 'VERY_UNLIKELY',\n",
       "     'joyLikelihood': 'POSSIBLE',\n",
       "     'landmarkingConfidence': 0.54003066,\n",
       "     'landmarks': [{'position': {'x': 360.49976,\n",
       "        'y': 204.79211,\n",
       "        'z': -0.000620115},\n",
       "       'type': 'LEFT_EYE'},\n",
       "      {'position': {'x': 410.11667, 'y': 198.83783, 'z': 3.1313946},\n",
       "       'type': 'RIGHT_EYE'},\n",
       "      {'position': {'x': 341.66507, 'y': 194.78052, 'z': 3.2048633},\n",
       "       'type': 'LEFT_OF_LEFT_EYEBROW'},\n",
       "      {'position': {'x': 372.08316, 'y': 191.5466, 'z': -9.3779545},\n",
       "       'type': 'RIGHT_OF_LEFT_EYEBROW'},\n",
       "      {'position': {'x': 396.04608, 'y': 189.00749, 'z': -7.8656359},\n",
       "       'type': 'LEFT_OF_RIGHT_EYEBROW'},\n",
       "      {'position': {'x': 424.51276, 'y': 185.66962, 'z': 8.349822},\n",
       "       'type': 'RIGHT_OF_RIGHT_EYEBROW'},\n",
       "      {'position': {'x': 385.30197, 'y': 200.42374, 'z': -9.0228672},\n",
       "       'type': 'MIDPOINT_BETWEEN_EYES'},\n",
       "      {'position': {'x': 389.42746, 'y': 229.22037, 'z': -22.629694},\n",
       "       'type': 'NOSE_TIP'},\n",
       "      {'position': {'x': 390.21146, 'y': 246.31659, 'z': -10.45887},\n",
       "       'type': 'UPPER_LIP'},\n",
       "      {'position': {'x': 391.19415, 'y': 264.19293, 'z': -6.1729727},\n",
       "       'type': 'LOWER_LIP'},\n",
       "      {'position': {'x': 367.0864, 'y': 257.99081, 'z': 2.8447201},\n",
       "       'type': 'MOUTH_LEFT'},\n",
       "      {'position': {'x': 411.73334, 'y': 249.19234, 'z': 5.3442616},\n",
       "       'type': 'MOUTH_RIGHT'},\n",
       "      {'position': {'x': 390.38373, 'y': 255.0359, 'z': -6.3894396},\n",
       "       'type': 'MOUTH_CENTER'},\n",
       "      {'position': {'x': 402.68097, 'y': 230.37553, 'z': -2.2585633},\n",
       "       'type': 'NOSE_BOTTOM_RIGHT'},\n",
       "      {'position': {'x': 373.97134, 'y': 235.75302, 'z': -3.9851689},\n",
       "       'type': 'NOSE_BOTTOM_LEFT'},\n",
       "      {'position': {'x': 389.55508, 'y': 237.73309, 'z': -10.909068},\n",
       "       'type': 'NOSE_BOTTOM_CENTER'},\n",
       "      {'position': {'x': 359.78476, 'y': 201.19107, 'z': -3.5333343},\n",
       "       'type': 'LEFT_EYE_TOP_BOUNDARY'},\n",
       "      {'position': {'x': 369.60596, 'y': 204.72681, 'z': 0.80502862},\n",
       "       'type': 'LEFT_EYE_RIGHT_CORNER'},\n",
       "      {'position': {'x': 360.46323, 'y': 207.67783, 'z': -0.3748419},\n",
       "       'type': 'LEFT_EYE_BOTTOM_BOUNDARY'},\n",
       "      {'position': {'x': 349.7803, 'y': 205.63171, 'z': 3.9188454},\n",
       "       'type': 'LEFT_EYE_LEFT_CORNER'},\n",
       "      {'position': {'x': 359.21057, 'y': 204.6272, 'z': -1.3994619},\n",
       "       'type': 'LEFT_EYE_PUPIL'},\n",
       "      {'position': {'x': 409.28027, 'y': 195.87686, 'z': -0.41848207},\n",
       "       'type': 'RIGHT_EYE_TOP_BOUNDARY'},\n",
       "      {'position': {'x': 419.0144, 'y': 198.16721, 'z': 8.262908},\n",
       "       'type': 'RIGHT_EYE_RIGHT_CORNER'},\n",
       "      {'position': {'x': 410.58496, 'y': 201.19885, 'z': 2.7613},\n",
       "       'type': 'RIGHT_EYE_BOTTOM_BOUNDARY'},\n",
       "      {'position': {'x': 399.6185, 'y': 200.8284, 'z': 2.6414547},\n",
       "       'type': 'RIGHT_EYE_LEFT_CORNER'},\n",
       "      {'position': {'x': 410.02679, 'y': 199.11859, 'z': 1.7463789},\n",
       "       'type': 'RIGHT_EYE_PUPIL'},\n",
       "      {'position': {'x': 356.30841, 'y': 187.05341, 'z': -6.6933994},\n",
       "       'type': 'LEFT_EYEBROW_UPPER_MIDPOINT'},\n",
       "      {'position': {'x': 409.99731, 'y': 181.28879, 'z': -3.3115525},\n",
       "       'type': 'RIGHT_EYEBROW_UPPER_MIDPOINT'},\n",
       "      {'position': {'x': 326.8941, 'y': 230.54547, 'z': 60.336246},\n",
       "       'type': 'LEFT_EAR_TRAGION'},\n",
       "      {'position': {'x': 439.3591, 'y': 218.49435, 'z': 67.364319},\n",
       "       'type': 'RIGHT_EAR_TRAGION'},\n",
       "      {'position': {'x': 384.09543, 'y': 189.65573, 'z': -10.560955},\n",
       "       'type': 'FOREHEAD_GLABELLA'},\n",
       "      {'position': {'x': 393.71552, 'y': 286.31714, 'z': 1.528931},\n",
       "       'type': 'CHIN_GNATHION'},\n",
       "      {'position': {'x': 337.03589, 'y': 262.24646, 'z': 41.465633},\n",
       "       'type': 'CHIN_LEFT_GONION'},\n",
       "      {'position': {'x': 438.61975, 'y': 251.32559, 'z': 47.8462},\n",
       "       'type': 'CHIN_RIGHT_GONION'}],\n",
       "     'panAngle': 3.5795498,\n",
       "     'rollAngle': -6.0012212,\n",
       "     'sorrowLikelihood': 'VERY_UNLIKELY',\n",
       "     'surpriseLikelihood': 'VERY_UNLIKELY',\n",
       "     'tiltAngle': -1.8844846,\n",
       "     'underExposedLikelihood': 'VERY_UNLIKELY'}]}]}"
      ]
     },
     "execution_count": 44,
     "metadata": {},
     "output_type": "execute_result"
    }
   ],
   "source": [
    "toLabel('./resource/photo/IMG_0007.JPG')"
   ]
  },
  {
   "cell_type": "code",
   "execution_count": 43,
   "metadata": {
    "collapsed": false
   },
   "outputs": [
    {
     "name": "stdout",
     "output_type": "stream",
     "text": [
      "http:./resource/photo/IMG_0007.JPG\n"
     ]
    }
   ],
   "source": [
    "print('http:./resource/photo/IMG_0007.JPG')"
   ]
  },
  {
   "cell_type": "code",
   "execution_count": null,
   "metadata": {
    "collapsed": true
   },
   "outputs": [],
   "source": []
  }
 ],
 "metadata": {
  "kernelspec": {
   "display_name": "Python 3",
   "language": "python",
   "name": "python3"
  },
  "language_info": {
   "codemirror_mode": {
    "name": "ipython",
    "version": 3
   },
   "file_extension": ".py",
   "mimetype": "text/x-python",
   "name": "python",
   "nbconvert_exporter": "python",
   "pygments_lexer": "ipython3",
   "version": "3.4.3"
  }
 },
 "nbformat": 4,
 "nbformat_minor": 0
}
