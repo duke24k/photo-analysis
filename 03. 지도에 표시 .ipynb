{
 "cells": [
  {
   "cell_type": "code",
   "execution_count": 1,
   "metadata": {
    "collapsed": false
   },
   "outputs": [],
   "source": [
    "from __future__ import print_function\n",
    "import pandas as pd\n",
    "import numpy as np \n",
    "import matplotlib.pyplot as plt\n",
    "import seaborn as sns\n",
    "import time\n",
    "import random\n",
    "from collections import deque\n",
    "from sklearn.cluster import MiniBatchKMeans, KMeans\n",
    "from sklearn.metrics.pairwise import pairwise_distances_argmin\n",
    "\n",
    "## interactive map \n",
    "from ipyleaflet import (\n",
    "    Map,\n",
    "    Marker,\n",
    "    TileLayer, ImageOverlay,\n",
    "    Polyline, Polygon, Rectangle, Circle, CircleMarker,\n",
    "    GeoJSON,\n",
    "    DrawControl\n",
    ")\n",
    "\n",
    "import warnings\n",
    "warnings.filterwarnings('ignore')\n",
    "\n",
    "%matplotlib inline"
   ]
  },
  {
   "cell_type": "code",
   "execution_count": 2,
   "metadata": {
    "collapsed": true
   },
   "outputs": [],
   "source": [
    "## 사진 데이터 로드 \n",
    "pic_ds = pd.read_pickle('./resource/pic_ds.pkl')\n",
    "pic_ds.sort('datetime', inplace=True)"
   ]
  },
  {
   "cell_type": "markdown",
   "metadata": {},
   "source": [
    "* kmeans로 위치 정보 clustering"
   ]
  },
  {
   "cell_type": "code",
   "execution_count": 3,
   "metadata": {
    "collapsed": false
   },
   "outputs": [],
   "source": [
    "from colour import Color\n",
    "sns.set(style=\"whitegrid\", palette=\"colorblind\", font_scale=1.4, rc={'font.family':'NanumGothic'} )"
   ]
  },
  {
   "cell_type": "code",
   "execution_count": 192,
   "metadata": {
    "collapsed": false
   },
   "outputs": [
    {
     "data": {
      "text/plain": [
       "2"
      ]
     },
     "execution_count": 192,
     "metadata": {},
     "output_type": "execute_result"
    }
   ],
   "source": [
    "def distance(pos1, pos2):\n",
    "    return abs(pos1[0]-pos2[0]) + abs(pos1[1]-pos2[1])"
   ]
  },
  {
   "cell_type": "code",
   "execution_count": 193,
   "metadata": {
    "collapsed": true
   },
   "outputs": [],
   "source": [
    "## Map 관련 함수들 \n",
    "\n",
    "def pos2bound(pos, tune_val=(0,0,-.05, -0.08)  ):\n",
    "    return [ (pos[0] + tune_val[0] , pos[1] + tune_val[1]),\n",
    "             (pos[0] + tune_val[2] , pos[1] + tune_val[3]) ]\n",
    "\n",
    "def pos2bound_by_wh(pos, height, width ):\n",
    "    y = -.01\n",
    "    x = .01\n",
    "    return pos2bound( pos, (y, x, y - height, x + width) )\n",
    "\n",
    "\n",
    "def addImage(filename, pos, width=.08, height=.05):\n",
    "    img_url = \"http://localhost:8888/files/photo-analysis/resource/small-photo/%s\" % filename\n",
    "    bounds = pos2bound_by_wh(pos, height, width)\n",
    "    io = ImageOverlay(url=img_url, bounds=bounds, opacity=.6 )\n",
    "    m.add_layer(io)\n",
    "    return io\n",
    "\n",
    "\n",
    "\n",
    "def addImages(ds, enable_tracking=False):\n",
    "    old_pos = (0,0)\n",
    "    for idx, row in ds.iterrows():\n",
    "        if (distance(old_pos, (row.latitude, row.longitude)) > 1) & enable_tracking:\n",
    "            old_pos = (row.latitude, row.longitude)\n",
    "            m.center = old_pos\n",
    "        addImage(row.image_name, (row.latitude, row.longitude))\n",
    "    \n",
    "    \n",
    "def drawMarker(pos_list):\n",
    "    Markeres = []\n",
    "    for pos in pos_list:\n",
    "        c = Marker(location=(pos[0],pos[1]), color='#0F0'\n",
    "                  ,opacity=.7 )\n",
    "        \n",
    "        Markeres.append(c)\n",
    "        m.add_layer(c)\n",
    "    return Markeres\n",
    "\n",
    "## lat, lng, radius, fill_color, fill_opacity\n",
    "def drawCircles(pos_list):\n",
    "    circles = []\n",
    "    for pos in pos_list:\n",
    "        c = Circle(location=(pos[0],pos[1]), radius=pos[2], weight=1, fill_color=pos[3]\n",
    "                  ,opacity=.5, fill_opacity=pos[4],color=pos[3] )\n",
    "        \n",
    "        circles.append(c)\n",
    "        m.add_layer(c)\n",
    "    return circles\n",
    "\n",
    "## lat, lng, radius, fill_color, fill_opacity\n",
    "def drawCirclesByDF(ds, lat='lat', lng='lng', radius='size', color='color', fill_opacity='opacity'):\n",
    "    circles = []\n",
    "    for (idx, row) in ds.iterrows():\n",
    "        c = Circle( location=(row[lat], row[lng])\n",
    "                   , radius=row[radius]\n",
    "                   , weight=1\n",
    "                   , fill_color= row[color]\n",
    "                   , opacity=.7\n",
    "                   , fill_opacity=fill_opacity if type(fill_opacity) in (float, int) else row[fill_opacity]\n",
    "                   , color=row[color] )\n",
    "        \n",
    "        circles.append(c)\n",
    "        m.add_layer(c)\n",
    "    return circles\n",
    "\n",
    "\n",
    "def removeCircles(circles):\n",
    "    for c in circles[:]:\n",
    "        try:\n",
    "            m.remove_layer(c)        \n",
    "        except :\n",
    "            pass \n",
    "\n",
    "def animateHistorie():\n",
    "    circles = []\n",
    "    images = deque()\n",
    "    old_center = [0,0]\n",
    "    seq = 0\n",
    "\n",
    "    for info in location_infos:\n",
    "        cinfo = cid_info[info[3]]\n",
    "\n",
    "        ## 동그라미 그리고 \n",
    "        c = Circle(location=(info[1],info[2]), radius=cinfo[1], weight=1, fill_color=info[6]\n",
    "                  ,  opacity=.1, fill_opacity=cinfo[0] )\n",
    "        circles.append(c)\n",
    "        m.add_layer(c)\n",
    "\n",
    "        ## image 그리고 \n",
    "        io = addImage(info[0], (info[1],info[2]))\n",
    "        \n",
    "        ## 이동하고 \n",
    "        center = [info[4],info[5]]\n",
    "        if old_center != center:\n",
    "            m.center = center\n",
    "            m.zoom = cinfo[2]\n",
    "            #time.sleep(1.5)\n",
    "            old_center = center\n",
    "        else :\n",
    "            ## 잠시 쉬고 \n",
    "            time.sleep(.1)  \n",
    "            pass\n",
    "def addYearLabel(filename, old_io=None):\n",
    "    if old_io is not None:\n",
    "        try:\n",
    "            m.remove_layer(old_io)\n",
    "        except:\n",
    "            pass\n",
    "    \n",
    "    img_url = \"http://localhost:8888/files/photo-analysis/resource/small-photo/%s\" % filename\n",
    "    pos = (m.bounds[0][0]+.06, m.bounds[0][1]+.0)\n",
    "    bounds = pos2bound_by_wh(pos, .05, .15)\n",
    "    io = ImageOverlay(url=img_url, bounds=bounds, opacity=.5 )\n",
    "    m.add_layer(io)\n",
    "    return io        "
   ]
  },
  {
   "cell_type": "code",
   "execution_count": 7,
   "metadata": {
    "collapsed": true
   },
   "outputs": [],
   "source": [
    "\n",
    "\n",
    "def geoClustering(ds, key='image_name', lat='latitude', lng='longitude', k=100 ):\n",
    "## generate data by clustered location\n",
    "    positions = [[row[lat], row[lng]] for idx, row in ds.iterrows()]\n",
    "    k_means = KMeans(init='k-means++', n_clusters=k, n_init=10, random_state=13)\n",
    "    k_means.fit(positions)\n",
    "    cluster_info = pd.DataFrame(k_means.labels_,columns=['cid'])\n",
    "    \n",
    "    clustered_info = []\n",
    "    for cid in k_means.labels_:\n",
    "        info = [cid]\n",
    "        info.extend(k_means.cluster_centers_[cid].tolist())\n",
    "        clustered_info.append(info)\n",
    "    return pd.DataFrame(clustered_info, columns=['cid','cid_lat', 'cid_lng'])\n",
    "    "
   ]
  },
  {
   "cell_type": "code",
   "execution_count": 8,
   "metadata": {
    "collapsed": false,
    "scrolled": false
   },
   "outputs": [
    {
     "data": {
      "image/png": "[encoded data removed]",
      "text/plain": [
       "<matplotlib.figure.Figure at 0x10ab4e1d0>"
      ]
     },
     "metadata": {},
     "output_type": "display_data"
    }
   ],
   "source": [
    "## year palette \n",
    "pal = [\"#9b59b6\", \"#3498db\",  \"#e74c3c\", \"#34495e\", \"#2ecc71\",'#000000']\n",
    "sns.palplot(pal)\n",
    "year_pal = {  year:col for year,col in zip(range(2012,2017),pal) }\n",
    "\n",
    "## 기본 데이터 생성 \n",
    "geo_pic_ds = pic_ds[(pic_ds.latitude>0)]\n",
    "geo_pic_ds['color'] = geo_pic_ds.year.apply(lambda x: year_pal.get(x,'#000'))\n",
    "geo_pic_ds.reset_index(drop=True, inplace=True)\n",
    "clustered = geoClustering(geo_pic_ds, 50)\n",
    "geo_pic_ds = pd.concat([geo_pic_ds, clustered], axis=1, join_axes=[geo_pic_ds.index])\n"
   ]
  },
  {
   "cell_type": "code",
   "execution_count": 9,
   "metadata": {
    "collapsed": false
   },
   "outputs": [
    {
     "data": {
      "text/plain": [
       "\" \\nlocation_infos = []\\nfor (seq, (idx, row)) in enumerate(pic_ds[(pic_ds.latitude>0)][:].iterrows()):\\n    cluster_id = k_means.labels_[seq]\\n    cluster_center = k_means.cluster_centers_[cluster_id].tolist()\\n    info = [\\n        row.image_name,\\n        row.latitude, row.longitude,\\n        cluster_id,\\n        cluster_center[0], cluster_center[1],\\n        pal[cluster_id],\\n        row.year\\n    ]\\n    location_infos.append(info)\\n\\nlocation_info_ds = pd.DataFrame(location_infos, columns='image_name pos_lat pos_lng cid cid_lat cid_lng color year'.split())\\ncid_cnt_ds = location_info_ds.groupby('cid').count()[['image_name']]\\n\\ncid_info = {}\\nfor cid, row in cid_cnt_ds.iterrows():\\n    info = []\\n    if row.image_name > 100:\\n        cid_info[cid] = [0.1, 600, 11]\\n    elif row.image_name > 10:\\n        cid_info[cid] = [0.2, 1000, 11]\\n    else :\\n        cid_info[cid] = [0.5, 1000, 11]\\n\""
      ]
     },
     "execution_count": 9,
     "metadata": {},
     "output_type": "execute_result"
    }
   ],
   "source": [
    "\"\"\" \n",
    "location_infos = []\n",
    "for (seq, (idx, row)) in enumerate(pic_ds[(pic_ds.latitude>0)][:].iterrows()):\n",
    "    cluster_id = k_means.labels_[seq]\n",
    "    cluster_center = k_means.cluster_centers_[cluster_id].tolist()\n",
    "    info = [\n",
    "        row.image_name,\n",
    "        row.latitude, row.longitude,\n",
    "        cluster_id,\n",
    "        cluster_center[0], cluster_center[1],\n",
    "        pal[cluster_id],\n",
    "        row.year\n",
    "    ]\n",
    "    location_infos.append(info)\n",
    "\n",
    "location_info_ds = pd.DataFrame(location_infos, columns='image_name pos_lat pos_lng cid cid_lat cid_lng color year'.split())\n",
    "cid_cnt_ds = location_info_ds.groupby('cid').count()[['image_name']]\n",
    "\n",
    "cid_info = {}\n",
    "for cid, row in cid_cnt_ds.iterrows():\n",
    "    info = []\n",
    "    if row.image_name > 100:\n",
    "        cid_info[cid] = [0.1, 600, 11]\n",
    "    elif row.image_name > 10:\n",
    "        cid_info[cid] = [0.2, 1000, 11]\n",
    "    else :\n",
    "        cid_info[cid] = [0.5, 1000, 11]\n",
    "\"\"\"        "
   ]
  },
  {
   "cell_type": "markdown",
   "metadata": {},
   "source": [
    "### 사진으로 생활권 그리기 "
   ]
  },
  {
   "cell_type": "code",
   "execution_count": 10,
   "metadata": {
    "collapsed": true
   },
   "outputs": [],
   "source": [
    "def calCentresInfo(ds):\n",
    "    centres_ds = ds.groupby(['cid_lat','cid_lng','color','year'])\\\n",
    "        .agg({'cid':len, 'image_name':np.max}).reset_index()\n",
    "\n",
    "    ## 사진의 중간에 점을찍고, 사이즈를 기반으로 반경을 그리고 \n",
    "    max_cnt = centres_ds.cid.max()\n",
    "    total = centres_ds.shape[0]\n",
    "    centres_ds.cid = centres_ds.cid.apply(lambda x: x*10 + 1000)\n",
    "    \n",
    "    centres_ds.sort('cid',inplace=True)\n",
    "    centres_ds['opacity'] = [ .2+(rank/total)*.2 for rank in range(0,total) ]\n",
    "    \n",
    "    #centres_ds['opacity'] = centres_ds.cid.apply(lambda x: cid*0.3/max_cnt + .2)\n",
    "    return centres_ds"
   ]
  },
  {
   "cell_type": "code",
   "execution_count": 11,
   "metadata": {
    "collapsed": true
   },
   "outputs": [],
   "source": [
    "map_objects=[]\n",
    "old_io=None"
   ]
  },
  {
   "cell_type": "markdown",
   "metadata": {},
   "source": [
    "--- \n",
    "* 전체 나의 활동 지역"
   ]
  },
  {
   "cell_type": "code",
   "execution_count": 203,
   "metadata": {
    "collapsed": false
   },
   "outputs": [],
   "source": [
    "old_io = None\n",
    "def renderMap(ds, show_circle=True, show_marker=True, show_image=False, image_width=.08, image_height=.05\n",
    "             , enable_tracking=False):\n",
    "    \n",
    "    old_pos = (0,0)\n",
    "    if show_image:\n",
    "        for idx, row in ds.iterrows():\n",
    "            if (distance(old_pos, (row.cid_lat, row.cid_lng)) > 1) & enable_tracking:\n",
    "                old_pos = (row.cid_lat, row.cid_lng)\n",
    "                m.center = old_pos\n",
    "                time.sleep(1.)\n",
    "            addImage(row.image_name, (row.cid_lat, row.cid_lng), width=image_width, height=image_height)\n",
    "    map_objects = []\n",
    "    \n",
    "    if show_circle:\n",
    "        map_objects.extend(drawCircles(ds[['cid_lat','cid_lng','cid','color','opacity']].values) )\n",
    "    if show_marker:\n",
    "        map_objects.extend(drawMarker(ds[['cid_lat','cid_lng','cid','color','opacity']].values) )\n",
    "\n",
    "    return map_objects\n",
    "\n",
    "def renderYearlyMap(ds, remove=False, show_image=False):\n",
    "    global old_io, map_objects\n",
    "    for year in range(2012, 2017):\n",
    "        if remove: removeCircles(map_objects)\n",
    "        old_io = addYearLabel('%db.png' % year, old_io=old_io)\n",
    "        tmp_ds = ds[ds.year==year]\n",
    "        tmp_ds['color'] = year_pal[year]\n",
    "        map_objects = renderMap(tmp_ds, show_image=show_image)\n",
    "        time.sleep(2)\n",
    "\n"
   ]
  },
  {
   "cell_type": "code",
   "execution_count": 98,
   "metadata": {
    "collapsed": false
   },
   "outputs": [],
   "source": [
    "m = Map(center=[37.414161,127.137560 ], zoom=11, height='600px')"
   ]
  },
  {
   "cell_type": "code",
   "execution_count": 99,
   "metadata": {
    "collapsed": true
   },
   "outputs": [],
   "source": [
    "m"
   ]
  },
  {
   "cell_type": "code",
   "execution_count": 100,
   "metadata": {
    "collapsed": false
   },
   "outputs": [],
   "source": [
    "## 년단위 전체 \n",
    "centres_ds = calCentresInfo(geo_pic_ds)\n",
    "renderYearlyMap(centres_ds, remove=False, show_image=False)"
   ]
  },
  {
   "cell_type": "code",
   "execution_count": null,
   "metadata": {
    "collapsed": true
   },
   "outputs": [],
   "source": [
    "### 정기 휴가는 어디로 갔을까?"
   ]
  },
  {
   "cell_type": "code",
   "execution_count": 36,
   "metadata": {
    "collapsed": true
   },
   "outputs": [],
   "source": [
    "m = Map(center=[37.414161,127.137560 ], zoom=7, height='650px')\n",
    "m"
   ]
  },
  {
   "cell_type": "code",
   "execution_count": 32,
   "metadata": {
    "collapsed": false
   },
   "outputs": [],
   "source": [
    "centres_ds = calCentresInfo(geo_pic_ds[geo_pic_ds['class']=='정기휴가'])\n",
    "a = renderMap(centres_ds, show_image=True, image_height=.65, image_width=1.2)"
   ]
  },
  {
   "cell_type": "code",
   "execution_count": 43,
   "metadata": {
    "collapsed": true
   },
   "outputs": [],
   "source": [
    "m = Map(center=(15.873494,108.203103), zoom=11, height='650px')\n",
    "m"
   ]
  },
  {
   "cell_type": "code",
   "execution_count": 44,
   "metadata": {
    "collapsed": true
   },
   "outputs": [],
   "source": [
    "centres_ds = calCentresInfo(geo_pic_ds[geo_pic_ds['class']=='정기휴가'])\n",
    "a = renderMap(centres_ds, show_image=True )"
   ]
  },
  {
   "cell_type": "code",
   "execution_count": 86,
   "metadata": {
    "collapsed": false
   },
   "outputs": [
    {
     "data": {
      "text/html": [
       "<div style=\"max-height:1000px;max-width:1500px;overflow:auto;\">\n",
       "<table border=\"1\" class=\"dataframe\">\n",
       "  <thead>\n",
       "    <tr style=\"text-align: right;\">\n",
       "      <th></th>\n",
       "      <th>0</th>\n",
       "      <th>1</th>\n",
       "      <th>2</th>\n",
       "      <th>3</th>\n",
       "      <th>4</th>\n",
       "    </tr>\n",
       "  </thead>\n",
       "  <tbody>\n",
       "    <tr>\n",
       "      <th>image_name</th>\n",
       "      <td>        IMG_0958.JPG</td>\n",
       "      <td>        IMG_0979.JPG</td>\n",
       "      <td>        IMG_0984.JPG</td>\n",
       "      <td>        IMG_0596.JPG</td>\n",
       "      <td>        IMG_0963.JPG</td>\n",
       "    </tr>\n",
       "    <tr>\n",
       "      <th>datetime</th>\n",
       "      <td> 2012-03-23 18:53:24</td>\n",
       "      <td> 2012-03-28 07:55:41</td>\n",
       "      <td> 2012-03-28 07:58:25</td>\n",
       "      <td> 2012-03-30 19:08:29</td>\n",
       "      <td> 2012-03-30 19:09:23</td>\n",
       "    </tr>\n",
       "    <tr>\n",
       "      <th>latitude</th>\n",
       "      <td>            37.40967</td>\n",
       "      <td>            37.41217</td>\n",
       "      <td>              37.414</td>\n",
       "      <td>              37.412</td>\n",
       "      <td>            37.41217</td>\n",
       "    </tr>\n",
       "    <tr>\n",
       "      <th>longitude</th>\n",
       "      <td>            127.1343</td>\n",
       "      <td>            127.1422</td>\n",
       "      <td>            127.1378</td>\n",
       "      <td>            127.1322</td>\n",
       "      <td>            127.1322</td>\n",
       "    </tr>\n",
       "    <tr>\n",
       "      <th>model</th>\n",
       "      <td>           iPhone 4S</td>\n",
       "      <td>           iPhone 4S</td>\n",
       "      <td>           iPhone 4S</td>\n",
       "      <td>           iPhone 4S</td>\n",
       "      <td>           iPhone 4S</td>\n",
       "    </tr>\n",
       "    <tr>\n",
       "      <th>resolution</th>\n",
       "      <td>             480X640</td>\n",
       "      <td>             480X640</td>\n",
       "      <td>             480X640</td>\n",
       "      <td>           2448X3264</td>\n",
       "      <td>             480X640</td>\n",
       "    </tr>\n",
       "    <tr>\n",
       "      <th>year</th>\n",
       "      <td>                2012</td>\n",
       "      <td>                2012</td>\n",
       "      <td>                2012</td>\n",
       "      <td>                2012</td>\n",
       "      <td>                2012</td>\n",
       "    </tr>\n",
       "    <tr>\n",
       "      <th>year_day</th>\n",
       "      <td>            83.78681</td>\n",
       "      <td>            88.32986</td>\n",
       "      <td>            88.33194</td>\n",
       "      <td>            90.79722</td>\n",
       "      <td>            90.79792</td>\n",
       "    </tr>\n",
       "    <tr>\n",
       "      <th>date</th>\n",
       "      <td>          2012-03-23</td>\n",
       "      <td>          2012-03-28</td>\n",
       "      <td>          2012-03-28</td>\n",
       "      <td>          2012-03-30</td>\n",
       "      <td>          2012-03-30</td>\n",
       "    </tr>\n",
       "    <tr>\n",
       "      <th>addr</th>\n",
       "      <td>    경기도_성남시_분당구_야탑3동</td>\n",
       "      <td>    경기도_성남시_분당구_야탑3동</td>\n",
       "      <td>    경기도_성남시_분당구_야탑3동</td>\n",
       "      <td>    경기도_성남시_분당구_야탑1동</td>\n",
       "      <td>    경기도_성남시_분당구_야탑1동</td>\n",
       "    </tr>\n",
       "    <tr>\n",
       "      <th>place</th>\n",
       "      <td>            야탑_이전집근처</td>\n",
       "      <td>            야탑_이전집근처</td>\n",
       "      <td>            야탑_이전집근처</td>\n",
       "      <td>            야탑_야탑역근처</td>\n",
       "      <td>            야탑_야탑역근처</td>\n",
       "    </tr>\n",
       "    <tr>\n",
       "      <th>class</th>\n",
       "      <td>                 집근처</td>\n",
       "      <td>                 집근처</td>\n",
       "      <td>                 집근처</td>\n",
       "      <td>                  모임</td>\n",
       "      <td>                  모임</td>\n",
       "    </tr>\n",
       "    <tr>\n",
       "      <th>person</th>\n",
       "      <td>                   2</td>\n",
       "      <td>                   2</td>\n",
       "      <td>                   1</td>\n",
       "      <td>                   1</td>\n",
       "      <td>                   1</td>\n",
       "    </tr>\n",
       "    <tr>\n",
       "      <th>me_smiling</th>\n",
       "      <td>             7.18004</td>\n",
       "      <td>             31.7806</td>\n",
       "      <td>                   0</td>\n",
       "      <td>                   0</td>\n",
       "      <td>             61.7472</td>\n",
       "    </tr>\n",
       "    <tr>\n",
       "      <th>me_age</th>\n",
       "      <td>                  34</td>\n",
       "      <td>                  33</td>\n",
       "      <td>                   0</td>\n",
       "      <td>                   0</td>\n",
       "      <td>                  26</td>\n",
       "    </tr>\n",
       "    <tr>\n",
       "      <th>wife_smiling</th>\n",
       "      <td>             43.4948</td>\n",
       "      <td>             52.5534</td>\n",
       "      <td>             86.4497</td>\n",
       "      <td>             87.5155</td>\n",
       "      <td>                   0</td>\n",
       "    </tr>\n",
       "    <tr>\n",
       "      <th>wife_age</th>\n",
       "      <td>                  24</td>\n",
       "      <td>                  31</td>\n",
       "      <td>                  28</td>\n",
       "      <td>                  23</td>\n",
       "      <td>                   0</td>\n",
       "    </tr>\n",
       "    <tr>\n",
       "      <th>junior_smiling</th>\n",
       "      <td>                   0</td>\n",
       "      <td>                   0</td>\n",
       "      <td>                   0</td>\n",
       "      <td>                   0</td>\n",
       "      <td>                   0</td>\n",
       "    </tr>\n",
       "    <tr>\n",
       "      <th>junior_age</th>\n",
       "      <td>                   0</td>\n",
       "      <td>                   0</td>\n",
       "      <td>                   0</td>\n",
       "      <td>                   0</td>\n",
       "      <td>                   0</td>\n",
       "    </tr>\n",
       "    <tr>\n",
       "      <th>color</th>\n",
       "      <td>             #9b59b6</td>\n",
       "      <td>             #9b59b6</td>\n",
       "      <td>             #9b59b6</td>\n",
       "      <td>             #9b59b6</td>\n",
       "      <td>             #9b59b6</td>\n",
       "    </tr>\n",
       "    <tr>\n",
       "      <th>cid</th>\n",
       "      <td>                  96</td>\n",
       "      <td>                  82</td>\n",
       "      <td>                  10</td>\n",
       "      <td>                  86</td>\n",
       "      <td>                  86</td>\n",
       "    </tr>\n",
       "    <tr>\n",
       "      <th>cid_lat</th>\n",
       "      <td>            37.41107</td>\n",
       "      <td>              37.411</td>\n",
       "      <td>            37.41416</td>\n",
       "      <td>            37.41027</td>\n",
       "      <td>            37.41027</td>\n",
       "    </tr>\n",
       "    <tr>\n",
       "      <th>cid_lng</th>\n",
       "      <td>            127.1345</td>\n",
       "      <td>            127.1401</td>\n",
       "      <td>            127.1375</td>\n",
       "      <td>            127.1299</td>\n",
       "      <td>            127.1299</td>\n",
       "    </tr>\n",
       "  </tbody>\n",
       "</table>\n",
       "</div>"
      ],
      "text/plain": [
       "                                  0                    1                    2  \\\n",
       "image_name             IMG_0958.JPG         IMG_0979.JPG         IMG_0984.JPG   \n",
       "datetime        2012-03-23 18:53:24  2012-03-28 07:55:41  2012-03-28 07:58:25   \n",
       "latitude                   37.40967             37.41217               37.414   \n",
       "longitude                  127.1343             127.1422             127.1378   \n",
       "model                     iPhone 4S            iPhone 4S            iPhone 4S   \n",
       "resolution                  480X640              480X640              480X640   \n",
       "year                           2012                 2012                 2012   \n",
       "year_day                   83.78681             88.32986             88.33194   \n",
       "date                     2012-03-23           2012-03-28           2012-03-28   \n",
       "addr               경기도_성남시_분당구_야탑3동     경기도_성남시_분당구_야탑3동     경기도_성남시_분당구_야탑3동   \n",
       "place                      야탑_이전집근처             야탑_이전집근처             야탑_이전집근처   \n",
       "class                           집근처                  집근처                  집근처   \n",
       "person                            2                    2                    1   \n",
       "me_smiling                  7.18004              31.7806                    0   \n",
       "me_age                           34                   33                    0   \n",
       "wife_smiling                43.4948              52.5534              86.4497   \n",
       "wife_age                         24                   31                   28   \n",
       "junior_smiling                    0                    0                    0   \n",
       "junior_age                        0                    0                    0   \n",
       "color                       #9b59b6              #9b59b6              #9b59b6   \n",
       "cid                              96                   82                   10   \n",
       "cid_lat                    37.41107               37.411             37.41416   \n",
       "cid_lng                    127.1345             127.1401             127.1375   \n",
       "\n",
       "                                  3                    4  \n",
       "image_name             IMG_0596.JPG         IMG_0963.JPG  \n",
       "datetime        2012-03-30 19:08:29  2012-03-30 19:09:23  \n",
       "latitude                     37.412             37.41217  \n",
       "longitude                  127.1322             127.1322  \n",
       "model                     iPhone 4S            iPhone 4S  \n",
       "resolution                2448X3264              480X640  \n",
       "year                           2012                 2012  \n",
       "year_day                   90.79722             90.79792  \n",
       "date                     2012-03-30           2012-03-30  \n",
       "addr               경기도_성남시_분당구_야탑1동     경기도_성남시_분당구_야탑1동  \n",
       "place                      야탑_야탑역근처             야탑_야탑역근처  \n",
       "class                            모임                   모임  \n",
       "person                            1                    1  \n",
       "me_smiling                        0              61.7472  \n",
       "me_age                            0                   26  \n",
       "wife_smiling                87.5155                    0  \n",
       "wife_age                         23                    0  \n",
       "junior_smiling                    0                    0  \n",
       "junior_age                        0                    0  \n",
       "color                       #9b59b6              #9b59b6  \n",
       "cid                              86                   86  \n",
       "cid_lat                    37.41027             37.41027  \n",
       "cid_lng                    127.1299             127.1299  "
      ]
     },
     "execution_count": 86,
     "metadata": {},
     "output_type": "execute_result"
    }
   ],
   "source": [
    "geo_pic_ds.g"
   ]
  },
  {
   "cell_type": "code",
   "execution_count": 89,
   "metadata": {
    "collapsed": false
   },
   "outputs": [
    {
     "data": {
      "text/html": [
       "<div style=\"max-height:1000px;max-width:1500px;overflow:auto;\">\n",
       "<table border=\"1\" class=\"dataframe\">\n",
       "  <thead>\n",
       "    <tr style=\"text-align: right;\">\n",
       "      <th></th>\n",
       "      <th>사진수</th>\n",
       "      <th>방문일수</th>\n",
       "    </tr>\n",
       "    <tr>\n",
       "      <th>place</th>\n",
       "      <th></th>\n",
       "      <th></th>\n",
       "    </tr>\n",
       "  </thead>\n",
       "  <tbody>\n",
       "    <tr>\n",
       "      <th>베트남_팜비치</th>\n",
       "      <td> 72</td>\n",
       "      <td> 3</td>\n",
       "    </tr>\n",
       "    <tr>\n",
       "      <th>제주도</th>\n",
       "      <td> 10</td>\n",
       "      <td> 3</td>\n",
       "    </tr>\n",
       "    <tr>\n",
       "      <th>베트남_다낭미케해변</th>\n",
       "      <td> 19</td>\n",
       "      <td> 3</td>\n",
       "    </tr>\n",
       "    <tr>\n",
       "      <th>베트남_호이안시가지</th>\n",
       "      <td> 96</td>\n",
       "      <td> 2</td>\n",
       "    </tr>\n",
       "    <tr>\n",
       "      <th>김포_공항</th>\n",
       "      <td>  1</td>\n",
       "      <td> 1</td>\n",
       "    </tr>\n",
       "    <tr>\n",
       "      <th>전주_한옥마을</th>\n",
       "      <td>  2</td>\n",
       "      <td> 1</td>\n",
       "    </tr>\n",
       "    <tr>\n",
       "      <th>인천_공항</th>\n",
       "      <td> 25</td>\n",
       "      <td> 1</td>\n",
       "    </tr>\n",
       "    <tr>\n",
       "      <th>속초_대명</th>\n",
       "      <td>  5</td>\n",
       "      <td> 1</td>\n",
       "    </tr>\n",
       "    <tr>\n",
       "      <th>분당_</th>\n",
       "      <td>  7</td>\n",
       "      <td> 1</td>\n",
       "    </tr>\n",
       "    <tr>\n",
       "      <th>베트남_오행산</th>\n",
       "      <td>  1</td>\n",
       "      <td> 1</td>\n",
       "    </tr>\n",
       "    <tr>\n",
       "      <th>문경_리조트</th>\n",
       "      <td>  2</td>\n",
       "      <td> 1</td>\n",
       "    </tr>\n",
       "    <tr>\n",
       "      <th>베트남_다낭오행산</th>\n",
       "      <td> 25</td>\n",
       "      <td> 1</td>\n",
       "    </tr>\n",
       "    <tr>\n",
       "      <th>베트남_다낭시내</th>\n",
       "      <td>  4</td>\n",
       "      <td> 1</td>\n",
       "    </tr>\n",
       "    <tr>\n",
       "      <th>베트남_다낭병원</th>\n",
       "      <td>  3</td>\n",
       "      <td> 1</td>\n",
       "    </tr>\n",
       "    <tr>\n",
       "      <th>베트남_다낭마트</th>\n",
       "      <td>  1</td>\n",
       "      <td> 1</td>\n",
       "    </tr>\n",
       "    <tr>\n",
       "      <th>베트남_다낭공항</th>\n",
       "      <td>  3</td>\n",
       "      <td> 1</td>\n",
       "    </tr>\n",
       "    <tr>\n",
       "      <th>통영_ES</th>\n",
       "      <td>  4</td>\n",
       "      <td> 1</td>\n",
       "    </tr>\n",
       "  </tbody>\n",
       "</table>\n",
       "</div>"
      ],
      "text/plain": [
       "            사진수  방문일수\n",
       "place                \n",
       "베트남_팜비치      72     3\n",
       "제주도          10     3\n",
       "베트남_다낭미케해변   19     3\n",
       "베트남_호이안시가지   96     2\n",
       "김포_공항         1     1\n",
       "전주_한옥마을       2     1\n",
       "인천_공항        25     1\n",
       "속초_대명         5     1\n",
       "분당_           7     1\n",
       "베트남_오행산       1     1\n",
       "문경_리조트        2     1\n",
       "베트남_다낭오행산    25     1\n",
       "베트남_다낭시내      4     1\n",
       "베트남_다낭병원      3     1\n",
       "베트남_다낭마트      1     1\n",
       "베트남_다낭공항      3     1\n",
       "통영_ES         4     1"
      ]
     },
     "execution_count": 89,
     "metadata": {},
     "output_type": "execute_result"
    }
   ],
   "source": [
    "place_ds = geo_pic_ds[geo_pic_ds['class']=='정기휴가']\\\n",
    "    .groupby('place')\\\n",
    "    .agg({'date': lambda x: len(np.unique(x)), 'image_name':len})\\\n",
    "    .sort('date',ascending=False)\n",
    "place_ds.columns = ['사진수', '방문일수']\n",
    "place_ds"
   ]
  },
  {
   "cell_type": "code",
   "execution_count": 47,
   "metadata": {
    "collapsed": false
   },
   "outputs": [],
   "source": [
    "m = Map(center=[37.414161,127.137560 ], zoom=11, height='600px')\n",
    "m"
   ]
  },
  {
   "cell_type": "code",
   "execution_count": 48,
   "metadata": {
    "collapsed": true
   },
   "outputs": [],
   "source": [
    "centres_ds = calCentresInfo(geo_pic_ds[geo_pic_ds['class']=='캠핑'])\n",
    "a = renderMap(centres_ds, show_image=True )"
   ]
  },
  {
   "cell_type": "code",
   "execution_count": 49,
   "metadata": {
    "collapsed": true
   },
   "outputs": [],
   "source": [
    "m = Map(center=[37.414161,127.137560 ], zoom=11, height='600px')\n",
    "m"
   ]
  },
  {
   "cell_type": "code",
   "execution_count": 50,
   "metadata": {
    "collapsed": false
   },
   "outputs": [],
   "source": [
    "centres_ds = calCentresInfo(geo_pic_ds[geo_pic_ds['class']=='나들이'])\n",
    "a = renderMap(centres_ds, show_image=True )"
   ]
  },
  {
   "cell_type": "code",
   "execution_count": 51,
   "metadata": {
    "collapsed": false
   },
   "outputs": [],
   "source": [
    "m = Map(center=[37.414161,127.137560 ], zoom=11, height='600px')\n",
    "m"
   ]
  },
  {
   "cell_type": "code",
   "execution_count": 52,
   "metadata": {
    "collapsed": false
   },
   "outputs": [],
   "source": [
    "centres_ds = calCentresInfo(geo_pic_ds[geo_pic_ds['class']=='캠핑'])\n",
    "a = renderMap(centres_ds, show_image=True )"
   ]
  },
  {
   "cell_type": "code",
   "execution_count": 35,
   "metadata": {
    "collapsed": false
   },
   "outputs": [
    {
     "data": {
      "image/png": "[encoded data removed]",
      "text/plain": [
       "<matplotlib.figure.Figure at 0x10d4d9e48>"
      ]
     },
     "metadata": {},
     "output_type": "display_data"
    }
   ],
   "source": [
    "## 50개의 클러스터로 구성\n",
    "n_clusters = 50\n",
    "pal = sns.hls_palette(n_clusters, l=.3, s=.8, h=.12).as_hex()\n",
    "sns.palplot(pal)\n",
    "## generate data \n",
    "positions = [ [row.latitude, row.longitude] for idx, row in pic_ds[(pic_ds.latitude>0)][:].iterrows()]\n",
    "random.seed(0)\n",
    "k_means = KMeans(init='k-means++', n_clusters=n_clusters, n_init=10, random_state=13)\n",
    "k_means.fit(positions)\n",
    "\n",
    "cluster_labels = pd.DataFrame(k_means.labels_,columns=['cid'])\n",
    "\n",
    "location_infos = []\n",
    "for (seq, (idx, row)) in enumerate(pic_ds[(pic_ds.latitude>0)][:].iterrows()):\n",
    "    cluster_id = k_means.labels_[seq]\n",
    "    cluster_center = k_means.cluster_centers_[cluster_id].tolist()\n",
    "    info = [\n",
    "        row.image_name,\n",
    "        row.latitude, row.longitude,\n",
    "        cluster_id,\n",
    "        cluster_center[0], cluster_center[1],\n",
    "        pal[cluster_id],\n",
    "        row.year\n",
    "    ]\n",
    "    location_infos.append(info)\n",
    "\n",
    "location_info_ds = pd.DataFrame(location_infos, columns='image_name pos_lat pos_lng cid cid_lat cid_lng color year'.split())\n",
    "cid_cnt_ds = location_info_ds.groupby('cid').count()[['image_name']]\n",
    "\n",
    "cid_info = {}\n",
    "for cid, row in cid_cnt_ds.iterrows():\n",
    "    info = []\n",
    "    if row.image_name > 100:\n",
    "        cid_info[cid] = [0.1, 600, 11]\n",
    "    elif row.image_name > 10:\n",
    "        cid_info[cid] = [0.2, 1000, 10]\n",
    "    else :\n",
    "        cid_info[cid] = [0.5, 1000, 10]\n",
    "        "
   ]
  },
  {
   "cell_type": "code",
   "execution_count": 38,
   "metadata": {
    "collapsed": false
   },
   "outputs": [],
   "source": [
    "m = Map(center=[37.041347222222225, 127.59707777777777 ], zoom=10)\n",
    "m.layout.height='600px'\n",
    "m"
   ]
  },
  {
   "cell_type": "code",
   "execution_count": 37,
   "metadata": {
    "collapsed": false
   },
   "outputs": [],
   "source": [
    "animateHistorie()"
   ]
  },
  {
   "cell_type": "code",
   "execution_count": null,
   "metadata": {
    "collapsed": true
   },
   "outputs": [],
   "source": []
  },
  {
   "cell_type": "code",
   "execution_count": null,
   "metadata": {
    "collapsed": true
   },
   "outputs": [],
   "source": [
    "centres_ds = calCentresInfo(geo_pic_ds[geo_pic_ds['class']=='정기휴가'])\n",
    "a = renderMap(centres_ds, show_image=True )"
   ]
  },
  {
   "cell_type": "code",
   "execution_count": null,
   "metadata": {
    "collapsed": true
   },
   "outputs": [],
   "source": [
    "### \n",
    "### \n",
    "* 베트남 여행 루트\n",
    "* 2015년 휴가 여행 루트 \n",
    "\n",
    "#### 참조 'cid_lat','cid_lng','cid','color','opacity' "
   ]
  },
  {
   "cell_type": "code",
   "execution_count": 160,
   "metadata": {
    "collapsed": false,
    "scrolled": true
   },
   "outputs": [],
   "source": [
    "# 베트남_다낭시내\n",
    "vn_pic_ds = geo_pic_ds[geo_pic_ds.place.apply(lambda x: x.find(u\"베트남_\")>-1)]\n",
    "vn_pic_ds['opacity'] = .2\n",
    "vn_pic_ds['cid'] = 1000\n",
    "vn_pic_ds['color'] = vn_pic_ds.date.apply(lambda x:pal[x.day%(pal_size)])"
   ]
  },
  {
   "cell_type": "code",
   "execution_count": 175,
   "metadata": {
    "collapsed": true
   },
   "outputs": [],
   "source": [
    "m = Map(center=[15.965290084132517, 108.30390930175781], zoom=11, height='600px')\n",
    "m"
   ]
  },
  {
   "cell_type": "code",
   "execution_count": 176,
   "metadata": {
    "collapsed": false
   },
   "outputs": [],
   "source": [
    "layout_list = renderMap(vn_pic_ds, show_image=True, show_marker=False)"
   ]
  },
  {
   "cell_type": "code",
   "execution_count": 123,
   "metadata": {
    "collapsed": false
   },
   "outputs": [
    {
     "data": {
      "text/plain": [
       "\" \\ndef calCentresInfo(ds):\\n    centres_ds = ds.groupby(['cid_lat','cid_lng','color','year'])        .agg({'cid':len, 'image_name':np.max}).reset_index()\\n\\n    ## 사진의 중간에 점을찍고, 사이즈를 기반으로 반경을 그리고 \\n    max_cnt = centres_ds.cid.max()\\n    total = centres_ds.shape[0]\\n    centres_ds.cid = centres_ds.cid.apply(lambda x: x*10 + 1000)\\n    \\n    centres_ds.sort('cid',inplace=True)\\n    centres_ds['opacity'] = [ .2+(rank/total)*.2 for rank in range(0,total) ]\\n    \\n    #centres_ds['opacity'] = centres_ds.cid.apply(lambda x: cid*0.3/max_cnt + .2)\\n    return centres_ds\\n\""
      ]
     },
     "execution_count": 123,
     "metadata": {},
     "output_type": "execute_result"
    }
   ],
   "source": [
    "# 베트남_다낭시내\n",
    "trip2015_pic_ds = geo_pic_ds[geo_pic_ds.place.apply(lambda x: x.find(u\"베트남_\")>-1)]\n",
    "vn_pic_ds['opacity'] = .2\n",
    "vn_pic_ds['cid'] = 1000\n",
    "vn_pic_ds['color'] = vn_pic_ds.date.apply(lambda x:pal[x.day%(pal_size)])"
   ]
  },
  {
   "cell_type": "code",
   "execution_count": 199,
   "metadata": {
    "collapsed": false
   },
   "outputs": [],
   "source": [
    "junior_pic_ds = geo_pic_ds[(geo_pic_ds.junior_age > 0)&(geo_pic_ds.person==1)]\n",
    "junior_pic_ds['opacity'] = .2\n",
    "junior_pic_ds['cid'] = 1000\n",
    "junior_pic_ds['color'] = junior_pic_ds.cid.apply(lambda x:pal[x%(pal_size)])"
   ]
  },
  {
   "cell_type": "code",
   "execution_count": 212,
   "metadata": {
    "collapsed": false
   },
   "outputs": [],
   "source": [
    "m = Map(center=[37.414161,127.137560 ], zoom=11, height='600px')\n",
    "m"
   ]
  },
  {
   "cell_type": "code",
   "execution_count": 213,
   "metadata": {
    "collapsed": true
   },
   "outputs": [],
   "source": [
    "layout_list = renderMap(junior_pic_ds, show_image=True, show_marker=False, show_circle=False, enable_tracking=True)"
   ]
  },
  {
   "cell_type": "code",
   "execution_count": null,
   "metadata": {
    "collapsed": true
   },
   "outputs": [],
   "source": []
  }
 ],
 "metadata": {
  "kernelspec": {
   "display_name": "Python 3",
   "language": "python",
   "name": "python3"
  },
  "language_info": {
   "codemirror_mode": {
    "name": "ipython",
    "version": 3
   },
   "file_extension": ".py",
   "mimetype": "text/x-python",
   "name": "python",
   "nbconvert_exporter": "python",
   "pygments_lexer": "ipython3",
   "version": "3.4.3"
  },
  "widgets": {
   "state": {
    "02d4f1fec2e44532829a1010a576b4de": {
     "views": [
      {
       "cell_index": 16
      }
     ]
    },
    "147d0ba9a9654c20a12e45a3bb5d7b42": {
     "views": [
      {
       "cell_index": 14
      }
     ]
    },
    "2440c1106aa64414a6466a57f52b5077": {
     "views": [
      {
       "cell_index": 20
      }
     ]
    },
    "3b2c7a929d9d4cd3ac368ef6c5553882": {
     "views": [
      {
       "cell_index": 24
      }
     ]
    },
    "4abbd588795e4e70999ebf4a1b16e7e9": {
     "views": [
      {
       "cell_index": 41
      }
     ]
    },
    "746e47c347fd4693b6e6dd1b10878462": {
     "views": [
      {
       "cell_index": 22
      }
     ]
    },
    "b5c8db5b29b84651a5411715fe85d36a": {
     "views": [
      {
       "cell_index": 18
      }
     ]
    },
    "bb2d569e044647a59882228024c2766d": {
     "views": [
      {
       "cell_index": 37
      }
     ]
    }
   },
   "version": "1.2.0"
  }
 },
 "nbformat": 4,
 "nbformat_minor": 0
}
