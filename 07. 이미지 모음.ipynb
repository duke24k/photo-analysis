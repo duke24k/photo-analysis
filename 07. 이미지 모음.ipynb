{
 "cells": [
  {
   "cell_type": "code",
   "execution_count": 5,
   "metadata": {
    "collapsed": true
   },
   "outputs": [],
   "source": [
    "import pandas as pd\n",
    "import numpy as np\n",
    "import matplotlib.pyplot as plt\n",
    "import datetime\n",
    "%matplotlib inline"
   ]
  },
  {
   "cell_type": "code",
   "execution_count": 3,
   "metadata": {
    "collapsed": true
   },
   "outputs": [],
   "source": [
    "from IPython.display import Image, HTML, display\n",
    "from glob import glob\n",
    "\n",
    "def drawImages(imagePathList, size='120px'):\n",
    "    imgtag = \"<img style='height: \"+size+\"; margin: 0px; float: left; border: 1px solid black;' src='./resource/medium400px-photo/%s' />\"\n",
    "    imagesList=''.join( [ imgtag % str(s) \n",
    "                         for s in imagePathList ])\n",
    "    \n",
    "    display(HTML(imagesList))"
   ]
  },
  {
   "cell_type": "code",
   "execution_count": 6,
   "metadata": {
    "collapsed": false
   },
   "outputs": [],
   "source": [
    "## 사진 데이터 로드 \n",
    "pic_ds = pd.read_pickle('./resource/pic_ds.pkl')\n",
    "pic_ds.sort('datetime', inplace=True)"
   ]
  },
  {
   "cell_type": "code",
   "execution_count": 7,
   "metadata": {
    "collapsed": false
   },
   "outputs": [
    {
     "name": "stdout",
     "output_type": "stream",
     "text": [
      "웃음지수 [ 98.9171  97.4664  97.0466  96.7611  96.6105]\n"
     ]
    },
    {
     "data": {
      "text/html": [
       "<img style='height: 120px; margin: 0px; float: left; border: 1px solid black;' src='./resource/medium400px-photo/IMG_0652.JPG' /><img style='height: 120px; margin: 0px; float: left; border: 1px solid black;' src='./resource/medium400px-photo/IMG_1003.JPG' /><img style='height: 120px; margin: 0px; float: left; border: 1px solid black;' src='./resource/medium400px-photo/IMG_0258.JPG' /><img style='height: 120px; margin: 0px; float: left; border: 1px solid black;' src='./resource/medium400px-photo/IMG_0951.JPG' /><img style='height: 120px; margin: 0px; float: left; border: 1px solid black;' src='./resource/medium400px-photo/IMG_1974.JPG' />"
      ],
      "text/plain": [
       "<IPython.core.display.HTML object>"
      ]
     },
     "metadata": {},
     "output_type": "display_data"
    },
    {
     "data": {
      "text/html": [
       "<img style='height: 120px; margin: 0px; float: left; border: 1px solid black;' src='./resource/medium400px-photo/IMG_1979.JPG' /><img style='height: 120px; margin: 0px; float: left; border: 1px solid black;' src='./resource/medium400px-photo/IMG_2044.JPG' /><img style='height: 120px; margin: 0px; float: left; border: 1px solid black;' src='./resource/medium400px-photo/IMG_2043.JPG' /><img style='height: 120px; margin: 0px; float: left; border: 1px solid black;' src='./resource/medium400px-photo/IMG_0802.JPG' /><img style='height: 120px; margin: 0px; float: left; border: 1px solid black;' src='./resource/medium400px-photo/IMG_2146.JPG' />"
      ],
      "text/plain": [
       "<IPython.core.display.HTML object>"
      ]
     },
     "metadata": {},
     "output_type": "display_data"
    },
    {
     "name": "stdout",
     "output_type": "stream",
     "text": [
      "웃음지수 [ 0.575181  0.751368  0.782068  0.810508  1.00541 ]\n"
     ]
    }
   ],
   "source": [
    "### 내가 가장 잘 웃는 사진 찾기\n",
    "\n",
    "print(\"웃음지수\",pic_ds[pic_ds.me_smiling>0].sort('me_smiling', ascending=False)[:5]['me_smiling'].values )\n",
    "drawImages(pic_ds[pic_ds.me_smiling>0].sort('me_smiling', ascending=False)[:5].image_name.tolist())\n",
    "\n",
    "drawImages(pic_ds[pic_ds.me_smiling>0].sort('me_smiling', ascending=True)[1:6].image_name.tolist())\n",
    "print(\"웃음지수\",pic_ds[pic_ds.me_smiling>0].sort('me_smiling', ascending=True)[1:6]['me_smiling'].values )\n"
   ]
  },
  {
   "cell_type": "code",
   "execution_count": 13,
   "metadata": {
    "collapsed": false
   },
   "outputs": [
    {
     "data": {
      "text/plain": [
       "3"
      ]
     },
     "execution_count": 13,
     "metadata": {},
     "output_type": "execute_result"
    }
   ],
   "source": [
    "max(1,2,3)"
   ]
  },
  {
   "cell_type": "code",
   "execution_count": 35,
   "metadata": {
    "collapsed": false
   },
   "outputs": [],
   "source": [
    "pic_ds['max_smiling'] = pic_ds.apply(lambda x:  max(x.me_smiling, x.wife_smiling, x.junior_smiling) , axis=1)\n",
    "pic_ds['max_age'] = pic_ds.apply(lambda x:  max(x.me_age, x.wife_age, x.junior_age) , axis=1)"
   ]
  },
  {
   "cell_type": "code",
   "execution_count": 36,
   "metadata": {
    "collapsed": false
   },
   "outputs": [
    {
     "name": "stdout",
     "output_type": "stream",
     "text": [
      "웃음지수 [ 99.228   97.7974  97.0466  96.8194  96.7165  96.4635  96.1923  96.0079\n",
      "  95.7384  95.6591  95.2065  94.7131  94.4222  94.4134  94.301   93.9689\n",
      "  93.3251  93.118   93.0164  92.7536]\n"
     ]
    },
    {
     "data": {
      "text/html": [
       "<img style='height: 170px; margin: 0px; float: left; border: 1px solid black;' src='./resource/medium400px-photo/IMG_0589.JPG' /><img style='height: 170px; margin: 0px; float: left; border: 1px solid black;' src='./resource/medium400px-photo/IMG_0613.JPG' /><img style='height: 170px; margin: 0px; float: left; border: 1px solid black;' src='./resource/medium400px-photo/IMG_0258.JPG' /><img style='height: 170px; margin: 0px; float: left; border: 1px solid black;' src='./resource/medium400px-photo/IMG_0940.JPG' /><img style='height: 170px; margin: 0px; float: left; border: 1px solid black;' src='./resource/medium400px-photo/IMG_0572.JPG' /><img style='height: 170px; margin: 0px; float: left; border: 1px solid black;' src='./resource/medium400px-photo/IMG_1596.JPG' /><img style='height: 170px; margin: 0px; float: left; border: 1px solid black;' src='./resource/medium400px-photo/IMG_0462.JPG' /><img style='height: 170px; margin: 0px; float: left; border: 1px solid black;' src='./resource/medium400px-photo/IMG_1580.JPG' /><img style='height: 170px; margin: 0px; float: left; border: 1px solid black;' src='./resource/medium400px-photo/IMG_1869.JPG' /><img style='height: 170px; margin: 0px; float: left; border: 1px solid black;' src='./resource/medium400px-photo/IMG_1870.JPG' /><img style='height: 170px; margin: 0px; float: left; border: 1px solid black;' src='./resource/medium400px-photo/IMG_0575.JPG' /><img style='height: 170px; margin: 0px; float: left; border: 1px solid black;' src='./resource/medium400px-photo/IMG_0542.JPG' /><img style='height: 170px; margin: 0px; float: left; border: 1px solid black;' src='./resource/medium400px-photo/IMG_0591.JPG' /><img style='height: 170px; margin: 0px; float: left; border: 1px solid black;' src='./resource/medium400px-photo/IMG_1649.JPG' /><img style='height: 170px; margin: 0px; float: left; border: 1px solid black;' src='./resource/medium400px-photo/IMG_0881.JPG' /><img style='height: 170px; margin: 0px; float: left; border: 1px solid black;' src='./resource/medium400px-photo/IMG_0934.JPG' /><img style='height: 170px; margin: 0px; float: left; border: 1px solid black;' src='./resource/medium400px-photo/IMG_0047.JPG' /><img style='height: 170px; margin: 0px; float: left; border: 1px solid black;' src='./resource/medium400px-photo/IMG_0557.JPG' /><img style='height: 170px; margin: 0px; float: left; border: 1px solid black;' src='./resource/medium400px-photo/IMG_0821.JPG' /><img style='height: 170px; margin: 0px; float: left; border: 1px solid black;' src='./resource/medium400px-photo/IMG_0933.JPG' />"
      ],
      "text/plain": [
       "<IPython.core.display.HTML object>"
      ]
     },
     "metadata": {},
     "output_type": "display_data"
    }
   ],
   "source": [
    "tmp_ds = pic_ds[(pic_ds.max_smiling>0)&(pic_ds.person==1)]\\\n",
    "    .sort('max_smiling', ascending=False)[:20]\n",
    "    \n",
    "tmp_ds['similing'] =tmp_ds['max_smiling']\n",
    "print(\"웃음지수\",tmp_ds.similing.values )\n",
    "drawImages(tmp_ds.image_name.tolist(), size='170px')"
   ]
  },
  {
   "cell_type": "code",
   "execution_count": 47,
   "metadata": {
    "collapsed": false
   },
   "outputs": [
    {
     "name": "stdout",
     "output_type": "stream",
     "text": [
      "예측 나이 [ 59.  56.  56.  56.  56.  51.  51.  50.  46.  46.  45.  45.  45.  44.  44.\n",
      "  44.  44.  43.  43.  43.]\n"
     ]
    },
    {
     "data": {
      "text/html": [
       "<img style='height: 170px; margin: 0px; float: left; border: 1px solid black;' src='./resource/medium400px-photo/IMG_1037.JPG' /><img style='height: 170px; margin: 0px; float: left; border: 1px solid black;' src='./resource/medium400px-photo/IMG_1968.JPG' /><img style='height: 170px; margin: 0px; float: left; border: 1px solid black;' src='./resource/medium400px-photo/IMG_1917.JPG' /><img style='height: 170px; margin: 0px; float: left; border: 1px solid black;' src='./resource/medium400px-photo/IMG_1935.JPG' /><img style='height: 170px; margin: 0px; float: left; border: 1px solid black;' src='./resource/medium400px-photo/IMG_1936.JPG' /><img style='height: 170px; margin: 0px; float: left; border: 1px solid black;' src='./resource/medium400px-photo/IMG_1918.JPG' /><img style='height: 170px; margin: 0px; float: left; border: 1px solid black;' src='./resource/medium400px-photo/IMG_1920.JPG' /><img style='height: 170px; margin: 0px; float: left; border: 1px solid black;' src='./resource/medium400px-photo/IMG_1142.JPG' /><img style='height: 170px; margin: 0px; float: left; border: 1px solid black;' src='./resource/medium400px-photo/IMG_0344.JPG' /><img style='height: 170px; margin: 0px; float: left; border: 1px solid black;' src='./resource/medium400px-photo/IMG_1082.JPG' /><img style='height: 170px; margin: 0px; float: left; border: 1px solid black;' src='./resource/medium400px-photo/IMG_0997.JPG' /><img style='height: 170px; margin: 0px; float: left; border: 1px solid black;' src='./resource/medium400px-photo/IMG_1300.JPG' /><img style='height: 170px; margin: 0px; float: left; border: 1px solid black;' src='./resource/medium400px-photo/IMG_1788.JPG' /><img style='height: 170px; margin: 0px; float: left; border: 1px solid black;' src='./resource/medium400px-photo/IMG_1001_2.JPG' /><img style='height: 170px; margin: 0px; float: left; border: 1px solid black;' src='./resource/medium400px-photo/IMG_1921.JPG' /><img style='height: 170px; margin: 0px; float: left; border: 1px solid black;' src='./resource/medium400px-photo/IMG_0555.JPG' /><img style='height: 170px; margin: 0px; float: left; border: 1px solid black;' src='./resource/medium400px-photo/IMG_1004.JPG' /><img style='height: 170px; margin: 0px; float: left; border: 1px solid black;' src='./resource/medium400px-photo/IMG_0641.JPG' /><img style='height: 170px; margin: 0px; float: left; border: 1px solid black;' src='./resource/medium400px-photo/IMG_1284.JPG' /><img style='height: 170px; margin: 0px; float: left; border: 1px solid black;' src='./resource/medium400px-photo/IMG_1084.JPG' />"
      ],
      "text/plain": [
       "<IPython.core.display.HTML object>"
      ]
     },
     "metadata": {},
     "output_type": "display_data"
    }
   ],
   "source": [
    "tmp_ds = pic_ds[(pic_ds.max_age>10)&(pic_ds.person==1)]\\\n",
    "    .sort('max_age', ascending=False)[:20]\n",
    "    \n",
    "tmp_ds['age'] =tmp_ds['max_age']\n",
    "print(u\"예측 나이\",tmp_ds.age.values )\n",
    "drawImages(tmp_ds.image_name.tolist(), size='170px')"
   ]
  },
  {
   "cell_type": "code",
   "execution_count": 51,
   "metadata": {
    "collapsed": false
   },
   "outputs": [
    {
     "name": "stdout",
     "output_type": "stream",
     "text": [
      "예측 나이 [ 16.  16.  18.  18.  18.  18.  19.  19.  19.  19.  20.  20.  20.  20.  20.\n",
      "  21.  22.  22.  22.  22.]\n"
     ]
    },
    {
     "data": {
      "text/html": [
       "<img style='height: 170px; margin: 0px; float: left; border: 1px solid black;' src='./resource/medium400px-photo/IMG_0889.JPG' /><img style='height: 170px; margin: 0px; float: left; border: 1px solid black;' src='./resource/medium400px-photo/IMG_1925.JPG' /><img style='height: 170px; margin: 0px; float: left; border: 1px solid black;' src='./resource/medium400px-photo/IMG_0067.JPG' /><img style='height: 170px; margin: 0px; float: left; border: 1px solid black;' src='./resource/medium400px-photo/IMG_1647.JPG' /><img style='height: 170px; margin: 0px; float: left; border: 1px solid black;' src='./resource/medium400px-photo/IMG_0439.JPG' /><img style='height: 170px; margin: 0px; float: left; border: 1px solid black;' src='./resource/medium400px-photo/IMG_0837.JPG' /><img style='height: 170px; margin: 0px; float: left; border: 1px solid black;' src='./resource/medium400px-photo/IMG_1987.JPG' /><img style='height: 170px; margin: 0px; float: left; border: 1px solid black;' src='./resource/medium400px-photo/IMG_0969.JPG' /><img style='height: 170px; margin: 0px; float: left; border: 1px solid black;' src='./resource/medium400px-photo/IMG_1872.JPG' /><img style='height: 170px; margin: 0px; float: left; border: 1px solid black;' src='./resource/medium400px-photo/IMG_0974.JPG' /><img style='height: 170px; margin: 0px; float: left; border: 1px solid black;' src='./resource/medium400px-photo/IMG_1592.JPG' /><img style='height: 170px; margin: 0px; float: left; border: 1px solid black;' src='./resource/medium400px-photo/IMG_1590.JPG' /><img style='height: 170px; margin: 0px; float: left; border: 1px solid black;' src='./resource/medium400px-photo/IMG_0143.JPG' /><img style='height: 170px; margin: 0px; float: left; border: 1px solid black;' src='./resource/medium400px-photo/IMG_1306.JPG' /><img style='height: 170px; margin: 0px; float: left; border: 1px solid black;' src='./resource/medium400px-photo/IMG_0948.JPG' /><img style='height: 170px; margin: 0px; float: left; border: 1px solid black;' src='./resource/medium400px-photo/IMG_0767.JPG' /><img style='height: 170px; margin: 0px; float: left; border: 1px solid black;' src='./resource/medium400px-photo/IMG_1829.JPG' /><img style='height: 170px; margin: 0px; float: left; border: 1px solid black;' src='./resource/medium400px-photo/IMG_0359.JPG' /><img style='height: 170px; margin: 0px; float: left; border: 1px solid black;' src='./resource/medium400px-photo/IMG_1979.JPG' /><img style='height: 170px; margin: 0px; float: left; border: 1px solid black;' src='./resource/medium400px-photo/IMG_1877.JPG' />"
      ],
      "text/plain": [
       "<IPython.core.display.HTML object>"
      ]
     },
     "metadata": {},
     "output_type": "display_data"
    }
   ],
   "source": [
    "tmp_ds = pic_ds[(pic_ds.me_age>15)&(pic_ds.person<3)]\\\n",
    "    .sort('me_age', ascending=True)[:20]\n",
    "    \n",
    "tmp_ds['age'] =tmp_ds['me_age']\n",
    "print(u\"예측 나이\",tmp_ds.age.values )\n",
    "drawImages(tmp_ds.image_name.tolist(), size='170px')"
   ]
  },
  {
   "cell_type": "code",
   "execution_count": null,
   "metadata": {
    "collapsed": true
   },
   "outputs": [],
   "source": []
  }
 ],
 "metadata": {
  "kernelspec": {
   "display_name": "Python 3",
   "language": "python",
   "name": "python3"
  },
  "language_info": {
   "codemirror_mode": {
    "name": "ipython",
    "version": 3
   },
   "file_extension": ".py",
   "mimetype": "text/x-python",
   "name": "python",
   "nbconvert_exporter": "python",
   "pygments_lexer": "ipython3",
   "version": "3.4.3"
  }
 },
 "nbformat": 4,
 "nbformat_minor": 0
}
