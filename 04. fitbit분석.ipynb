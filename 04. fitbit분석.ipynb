{
 "cells": [
  {
   "cell_type": "code",
   "execution_count": 2,
   "metadata": {
    "collapsed": true
   },
   "outputs": [],
   "source": [
    "import pandas as pd"
   ]
  },
  {
   "cell_type": "markdown",
   "metadata": {},
   "source": [
    "## 수면데이터"
   ]
  },
  {
   "cell_type": "code",
   "execution_count": 60,
   "metadata": {
    "collapsed": false
   },
   "outputs": [],
   "source": [
    "sleep_ds = pd.DataFrame.from_csv('./resource/sleeptime_modified.csv',index_col=None, header=None)\n",
    "sleep_ds.columns = 'gosleep wakeup sleep_taken sleep_event sleep_time sleep_rate'.split()\n",
    "\n",
    "import math\n",
    "\n",
    "def toMinute(hour_str):\n",
    "    hhmm = hour_str.split(':')\n",
    "    return int(hhmm[0])*60 + int(hhmm[1])\n",
    "\n",
    "def toHour(hour_min):\n",
    "    return \"%d:%d\" % (math.floor(hour_min/60), math.floor(hour_min%60))\n",
    "\n",
    "\n",
    "sleep_ds['gosleep_min'] = sleep_ds.gosleep.apply(toMinute)\n",
    "sleep_ds['wakeup_min'] = sleep_ds.wakeup.apply(toMinute)\n",
    "sleep_ds['sleep_time_min'] = sleep_ds.sleep_time.apply(toMinute)\n",
    "sleep_ds['sleep_rate'] = sleep_ds.sleep_rate.apply(lambda x: int(x[:-1]))"
   ]
  },
  {
   "cell_type": "code",
   "execution_count": 74,
   "metadata": {
    "collapsed": false
   },
   "outputs": [
    {
     "name": "stdout",
     "output_type": "stream",
     "text": [
      "평균 취침시간 11:29\n",
      "평균 기상시간 6:25\n",
      "평균 수면시간 6:3\n",
      "수면중 깨어난 횟수 14 회\n",
      "평균 수명효율 93.3461538462 %\n"
     ]
    }
   ],
   "source": [
    "ret = sleep_ds.mean().apply(toHour)\n",
    "print(u\"평균 취침시간\", ret.gosleep_min)\n",
    "print(u\"평균 기상시간\", ret.wakeup_min)\n",
    "print(u\"평균 수면시간\", ret.sleep_time_min)\n",
    "print(u\"수면중 깨어난 횟수\", ret.sleep_event.split(':')[1], \"회\")\n",
    "print(u\"평균 수명효율\", sleep_ds.mean().sleep_rate, \"%\")\n"
   ]
  },
  {
   "cell_type": "markdown",
   "metadata": {},
   "source": [
    "## 신체 활동"
   ]
  },
  {
   "cell_type": "code",
   "execution_count": 92,
   "metadata": {
    "collapsed": false
   },
   "outputs": [],
   "source": [
    "## data load\n",
    "array_list = []\n",
    "for mm in range(1,7):\n",
    "    activity_part_ds = pd.read_csv('./resource/activity_%02d.csv' % mm,index_col=None, skiprows=1)\n",
    "    array_list.append(activity_part_ds)"
   ]
  },
  {
   "cell_type": "code",
   "execution_count": 135,
   "metadata": {
    "collapsed": false
   },
   "outputs": [],
   "source": [
    "## 숫자의 ',' 제거 \n",
    "activity_ds = pd.concat(array_list)\n",
    "for col in \"칼로리 소모량|걸음 수|활동 칼로리\".split('|'):\n",
    "    activity_ds[col] = activity_ds[col].apply(lambda x: x.replace(\",\",\"\"))"
   ]
  },
  {
   "cell_type": "code",
   "execution_count": 140,
   "metadata": {
    "collapsed": false
   },
   "outputs": [],
   "source": [
    "## type 변환 str to int \n",
    "activity_ds = activity_ds.convert_objects(convert_numeric=True)\n",
    "## 1500 이하 걸음수는 정상적인 데이터가 아니기 때문에 삭제 \n",
    "activity_ds = activity_ds[activity_ds['걸음 수']>1500]"
   ]
  },
  {
   "cell_type": "code",
   "execution_count": 142,
   "metadata": {
    "collapsed": false
   },
   "outputs": [
    {
     "data": {
      "text/plain": [
       "칼로리 소모량           2816.505747\n",
       "걸음 수              9880.931034\n",
       "이동 거리                7.875805\n",
       "층 수                 14.936782\n",
       "정적인 시간(분)          740.639456\n",
       "약간 활동적인 시간(분)      223.126437\n",
       "상당히 활동적인 시간(분)      23.293103\n",
       "매우 활동적인 시간(분)       20.356322\n",
       "활동 칼로리            1245.465517\n",
       "dtype: float64"
      ]
     },
     "execution_count": 142,
     "metadata": {},
     "output_type": "execute_result"
    }
   ],
   "source": [
    "activity_ds.mean()"
   ]
  },
  {
   "cell_type": "code",
   "execution_count": null,
   "metadata": {
    "collapsed": true
   },
   "outputs": [],
   "source": []
  }
 ],
 "metadata": {
  "kernelspec": {
   "display_name": "Python 3",
   "language": "python",
   "name": "python3"
  },
  "language_info": {
   "codemirror_mode": {
    "name": "ipython",
    "version": 3
   },
   "file_extension": ".py",
   "mimetype": "text/x-python",
   "name": "python",
   "nbconvert_exporter": "python",
   "pygments_lexer": "ipython3",
   "version": "3.4.3"
  }
 },
 "nbformat": 4,
 "nbformat_minor": 0
}
